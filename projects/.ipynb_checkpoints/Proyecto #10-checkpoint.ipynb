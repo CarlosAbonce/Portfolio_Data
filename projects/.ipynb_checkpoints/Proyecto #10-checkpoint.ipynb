{
 "cells": [
  {
   "cell_type": "markdown",
   "metadata": {},
   "source": [
    "# OilyGiant"
   ]
  },
  {
   "cell_type": "code",
   "execution_count": 1,
   "metadata": {},
   "outputs": [],
   "source": [
    "import pandas as pd\n",
    "import numpy as np\n",
    "import matplotlib.pyplot as plt\n",
    "from sklearn.model_selection import train_test_split\n",
    "from sklearn.linear_model import LinearRegression\n",
    "from sklearn.metrics import mean_squared_error\n",
    "import seaborn as sns"
   ]
  },
  {
   "cell_type": "code",
   "execution_count": 2,
   "metadata": {},
   "outputs": [],
   "source": [
    "df_geo_0 =pd.read_csv('datasets/geo_data_0.csv')\n",
    "df_geo_1 =pd.read_csv('datasets/geo_data_1.csv')\n",
    "df_geo_2 =pd.read_csv('datasets/geo_data_2.csv')"
   ]
  },
  {
   "cell_type": "markdown",
   "metadata": {},
   "source": [
    "# Dataframe 0"
   ]
  },
  {
   "cell_type": "code",
   "execution_count": 3,
   "metadata": {},
   "outputs": [
    {
     "data": {
      "text/html": [
       "<div>\n",
       "<style scoped>\n",
       "    .dataframe tbody tr th:only-of-type {\n",
       "        vertical-align: middle;\n",
       "    }\n",
       "\n",
       "    .dataframe tbody tr th {\n",
       "        vertical-align: top;\n",
       "    }\n",
       "\n",
       "    .dataframe thead th {\n",
       "        text-align: right;\n",
       "    }\n",
       "</style>\n",
       "<table border=\"1\" class=\"dataframe\">\n",
       "  <thead>\n",
       "    <tr style=\"text-align: right;\">\n",
       "      <th></th>\n",
       "      <th>id</th>\n",
       "      <th>f0</th>\n",
       "      <th>f1</th>\n",
       "      <th>f2</th>\n",
       "      <th>product</th>\n",
       "    </tr>\n",
       "  </thead>\n",
       "  <tbody>\n",
       "    <tr>\n",
       "      <th>0</th>\n",
       "      <td>txEyH</td>\n",
       "      <td>0.705745</td>\n",
       "      <td>-0.497823</td>\n",
       "      <td>1.221170</td>\n",
       "      <td>105.280062</td>\n",
       "    </tr>\n",
       "    <tr>\n",
       "      <th>1</th>\n",
       "      <td>2acmU</td>\n",
       "      <td>1.334711</td>\n",
       "      <td>-0.340164</td>\n",
       "      <td>4.365080</td>\n",
       "      <td>73.037750</td>\n",
       "    </tr>\n",
       "    <tr>\n",
       "      <th>2</th>\n",
       "      <td>409Wp</td>\n",
       "      <td>1.022732</td>\n",
       "      <td>0.151990</td>\n",
       "      <td>1.419926</td>\n",
       "      <td>85.265647</td>\n",
       "    </tr>\n",
       "    <tr>\n",
       "      <th>3</th>\n",
       "      <td>iJLyR</td>\n",
       "      <td>-0.032172</td>\n",
       "      <td>0.139033</td>\n",
       "      <td>2.978566</td>\n",
       "      <td>168.620776</td>\n",
       "    </tr>\n",
       "    <tr>\n",
       "      <th>4</th>\n",
       "      <td>Xdl7t</td>\n",
       "      <td>1.988431</td>\n",
       "      <td>0.155413</td>\n",
       "      <td>4.751769</td>\n",
       "      <td>154.036647</td>\n",
       "    </tr>\n",
       "  </tbody>\n",
       "</table>\n",
       "</div>"
      ],
      "text/plain": [
       "      id        f0        f1        f2     product\n",
       "0  txEyH  0.705745 -0.497823  1.221170  105.280062\n",
       "1  2acmU  1.334711 -0.340164  4.365080   73.037750\n",
       "2  409Wp  1.022732  0.151990  1.419926   85.265647\n",
       "3  iJLyR -0.032172  0.139033  2.978566  168.620776\n",
       "4  Xdl7t  1.988431  0.155413  4.751769  154.036647"
      ]
     },
     "metadata": {},
     "output_type": "display_data"
    }
   ],
   "source": [
    "display(df_geo_0.head())"
   ]
  },
  {
   "cell_type": "code",
   "execution_count": 4,
   "metadata": {},
   "outputs": [
    {
     "name": "stdout",
     "output_type": "stream",
     "text": [
      "<class 'pandas.core.frame.DataFrame'>\n",
      "RangeIndex: 100000 entries, 0 to 99999\n",
      "Data columns (total 5 columns):\n",
      " #   Column   Non-Null Count   Dtype  \n",
      "---  ------   --------------   -----  \n",
      " 0   id       100000 non-null  object \n",
      " 1   f0       100000 non-null  float64\n",
      " 2   f1       100000 non-null  float64\n",
      " 3   f2       100000 non-null  float64\n",
      " 4   product  100000 non-null  float64\n",
      "dtypes: float64(4), object(1)\n",
      "memory usage: 3.8+ MB\n"
     ]
    }
   ],
   "source": [
    "df_geo_0.info()"
   ]
  },
  {
   "cell_type": "code",
   "execution_count": 5,
   "metadata": {},
   "outputs": [],
   "source": [
    "#Split the data into training and test sets in a ratio of 75:25\n",
    "X = df_geo_0[['f0', 'f1', 'f2']]\n",
    "y = df_geo_0['product']\n",
    "\n",
    "X_train, X_val, y_train, y_val = train_test_split(X, y, test_size=0.25, random_state=12345)"
   ]
  },
  {
   "cell_type": "code",
   "execution_count": 6,
   "metadata": {},
   "outputs": [],
   "source": [
    "# Make predictions for the validation set\n",
    "model = LinearRegression()\n",
    "model.fit(X_train, y_train)\n",
    "\n",
    "predictions = model.predict(X_val)"
   ]
  },
  {
   "cell_type": "code",
   "execution_count": 7,
   "metadata": {},
   "outputs": [
    {
     "name": "stdout",
     "output_type": "stream",
     "text": [
      "Media de la columna 'product': 92.50000000000001\n"
     ]
    }
   ],
   "source": [
    "media_product = df_geo_0['product'].mean()\n",
    "print(\"Media de la columna 'product':\", media_product)"
   ]
  },
  {
   "cell_type": "code",
   "execution_count": 8,
   "metadata": {},
   "outputs": [
    {
     "name": "stdout",
     "output_type": "stream",
     "text": [
      "Linear Regression\n",
      "MSE geo_data_0 = 1412.2129364399243\n",
      "RMSE geo_data_0= 37.5794217150813\n"
     ]
    }
   ],
   "source": [
    "# Shows the model's predicted average reserve volume and RMSE.\n",
    "# Step 6: Calculate the Mean Square Error (MSE) and Root Mean Square Error (RMSE)\n",
    "mse = mean_squared_error(y_val, predictions)\n",
    "rmse = mse ** 0.5\n",
    "\n",
    "print('Linear Regression')\n",
    "print('MSE geo_data_0 =', mse)\n",
    "print('RMSE geo_data_0=', rmse)"
   ]
  },
  {
   "cell_type": "code",
   "execution_count": 9,
   "metadata": {},
   "outputs": [
    {
     "name": "stdout",
     "output_type": "stream",
     "text": [
      "La región geo_data_0 no es rentable.\n"
     ]
    }
   ],
   "source": [
    "inversion_total = 100000000  # $100 millions\n",
    "numero_pozos = 200\n",
    "\n",
    "umbral_rentabilidad = 500000  # $500,000 per pit\n",
    "\n",
    "# Calculate the average volume of reserves in each region\n",
    "volumen_medio_reservas_geo_0 = df_geo_0['product'].mean()\n",
    "\n",
    "# Compare with the profitability threshold\n",
    "if volumen_medio_reservas_geo_0 >= umbral_rentabilidad:\n",
    "    print(\"La región geo_data_0 es rentable.\")\n",
    "else:\n",
    "    print(\"La región geo_data_0 no es rentable.\")"
   ]
  },
  {
   "cell_type": "code",
   "execution_count": 10,
   "metadata": {},
   "outputs": [
    {
     "data": {
      "image/png": "[encoded data removed]",
      "text/plain": [
       "<Figure size 432x288 with 1 Axes>"
      ]
     },
     "metadata": {
      "needs_background": "light"
     },
     "output_type": "display_data"
    }
   ],
   "source": [
    "# Production threshold in units\n",
    "umbral_produccion = 500000 / 111.1\n",
    "\n",
    "# Average amount of reservations in each region\n",
    "media_reservas_geo_0 = df_geo_0['product'].mean()\n",
    "\n",
    "# Create the graph\n",
    "regiones = ['Geo_0']\n",
    "valores = [media_reservas_geo_0]\n",
    "\n",
    "plt.bar(regiones, valores, color='black', alpha=0.5, label='Average reservations')\n",
    "plt.axhline(y=umbral_produccion, color='red', linestyle='--', label='Production threshold')\n",
    "plt.xlabel('Regions')\n",
    "plt.ylabel('Amount')\n",
    "plt.title('Comparison of average reserves and production threshold')\n",
    "plt.legend()\n",
    "plt.show()\n"
   ]
  },
  {
   "cell_type": "markdown",
   "metadata": {},
   "source": [
    "# Write a function to calculate the profit for a set of selected oil wells and model the predictions:"
   ]
  },
  {
   "cell_type": "code",
   "execution_count": 11,
   "metadata": {},
   "outputs": [
    {
     "name": "stdout",
     "output_type": "stream",
     "text": [
      "Total de la columna 'product': 9250000.000000002\n"
     ]
    }
   ],
   "source": [
    "total_product = df_geo_0['product'].sum()\n",
    "print(\"Total of the 'product' column:\", total_product)"
   ]
  },
  {
   "cell_type": "code",
   "execution_count": 12,
   "metadata": {},
   "outputs": [
    {
     "name": "stdout",
     "output_type": "stream",
     "text": [
      "Los 5 primeros pozos con los valores de predicción más altos:\n",
      "          id        f0        f1         f2     product  predicted_product\n",
      "51140  QFDWZ  1.092258 -0.541900  16.003790  182.079984         194.936305\n",
      "83095  xuWxm  1.888221  0.067384  15.428372  144.009283         185.412580\n",
      "51464  Fgte6  1.612452 -0.074593  15.230322  173.971897         185.117595\n",
      "93073  S96Jh  1.814871 -0.207268  14.087536  162.810993         180.180713\n",
      "52356  R5IYz  0.879559  0.258449  15.202838  123.920559         177.608048\n"
     ]
    }
   ],
   "source": [
    "# Step 1: Make predictions for all wells\n",
    "predictions_all = model.predict(X)\n",
    "\n",
    "# Add the predictions to the DataFrame\n",
    "df_geo_0['predicted_product'] = predictions_all\n",
    "\n",
    "# Step 2: Select the 200 wells with the highest prediction values\n",
    "top_200_wells = df_geo_0.nlargest(200, 'predicted_product')\n",
    "\n",
    "# View the results\n",
    "print(\"Top 5 wells with the highest prediction values:\")\n",
    "print(top_200_wells.head())\n"
   ]
  },
  {
   "cell_type": "code",
   "execution_count": 13,
   "metadata": {},
   "outputs": [
    {
     "name": "stdout",
     "output_type": "stream",
     "text": [
      "Total de produccion de los 200 pozos seleccionados: 29986.898204693367\n"
     ]
    }
   ],
   "source": [
    "# Calculate the total production of the 200 selected wells\n",
    "total_production = top_200_wells['product'].sum()\n",
    "\n",
    "print(\"Total production of the 200 selected wells:\", total_production)"
   ]
  },
  {
   "cell_type": "code",
   "execution_count": 14,
   "metadata": {},
   "outputs": [
    {
     "name": "stdout",
     "output_type": "stream",
     "text": [
      "Media de produccion de los 200 pozos seleccionados: 149.93449102346685\n"
     ]
    }
   ],
   "source": [
    "mean_production = top_200_wells['product'].mean()\n",
    "\n",
    "print(\"Average production of the 200 selected wells:\", mean_production)"
   ]
  },
  {
   "cell_type": "markdown",
   "metadata": {},
   "source": [
    "# Calculate potential profit"
   ]
  },
  {
   "cell_type": "code",
   "execution_count": 15,
   "metadata": {},
   "outputs": [
    {
     "name": "stdout",
     "output_type": "stream",
     "text": [
      "3334.7897244119968\n"
     ]
    }
   ],
   "source": [
    "valor_de_cada_unidad = 100000000/total_production\n",
    "print(valor_de_cada_unidad)"
   ]
  },
  {
   "cell_type": "markdown",
   "metadata": {},
   "source": [
    "# Calculate risks and profits for each region:"
   ]
  },
  {
   "cell_type": "code",
   "execution_count": 16,
   "metadata": {},
   "outputs": [
    {
     "data": {
      "image/png": "[encoded data removed]",
      "text/plain": [
       "<Figure size 432x288 with 1 Axes>"
      ]
     },
     "metadata": {
      "needs_background": "light"
     },
     "output_type": "display_data"
    }
   ],
   "source": [
    "# Data\n",
    "#mean_production = 149.93449102346685\n",
    "#total_production = 29986.898204693367\n",
    "#valor_de_cada_unidad = 100000000 / total_production\n",
    "\n",
    "# Generate production samples based on the average\n",
    "produccion_muestras = np.random.normal(mean_production, 10, size=(1000, len(top_200_wells)))\n",
    "\n",
    "# Calculate the total production for each sample\n",
    "produccion_total_muestras = produccion_muestras.sum(axis=1)\n",
    "\n",
    "# Calculate the profits for each sample\n",
    "beneficios_muestras = produccion_total_muestras * valor_de_cada_unidad\n",
    "\n",
    "# Show the distribution of profits\n",
    "\n",
    "plt.hist(beneficios_muestras, bins=30, edgecolor='black')\n",
    "plt.title('Profit Sharing (Bootstrapping)')\n",
    "plt.xlabel('Profit')\n",
    "plt.ylabel('Frequency')\n",
    "plt.grid(True)\n",
    "plt.show()"
   ]
  },
  {
   "cell_type": "code",
   "execution_count": 17,
   "metadata": {},
   "outputs": [
    {
     "data": {
      "image/png": "[encoded data removed]",
      "text/plain": [
       "<Figure size 432x288 with 1 Axes>"
      ]
     },
     "metadata": {
      "needs_background": "light"
     },
     "output_type": "display_data"
    }
   ],
   "source": [
    "plt.hist(beneficios_muestras, bins=5, edgecolor='black')\n",
    "plt.title('Profit Distribution')\n",
    "plt.xlabel('Profit')\n",
    "plt.ylabel('Frequency')\n",
    "plt.grid(True)\n",
    "plt.show()"
   ]
  },
  {
   "cell_type": "code",
   "execution_count": 18,
   "metadata": {},
   "outputs": [
    {
     "name": "stdout",
     "output_type": "stream",
     "text": [
      "Beneficio promedio: 100026400.26101533\n",
      "Intervalo de confianza del 95%: [9.91013100e+07 1.01003647e+08]\n",
      "Riesgo de pérdidas: 0.0 %\n"
     ]
    }
   ],
   "source": [
    "# Calculate average profit\n",
    "beneficio_promedio = np.mean(beneficios_muestras)\n",
    "print(\"Average profit:\", beneficio_promedio)\n",
    "\n",
    "# Calculate 95% confidence interval\n",
    "intervalo_confianza = np.percentile(beneficios_muestras, [2.5, 97.5])\n",
    "print(\"Calculate 95% confidence interval:\", intervalo_confianza)\n",
    "\n",
    "# Calculate risk of loss as probability and express it as a percentage\n",
    "probabilidad_perdidas = np.mean(beneficios_muestras < 0)\n",
    "porcentaje_perdidas = probabilidad_perdidas * 100\n",
    "print(\"Risk of losses:\", porcentaje_perdidas, \"%\")\n"
   ]
  },
  {
   "cell_type": "code",
   "execution_count": 19,
   "metadata": {},
   "outputs": [
    {
     "name": "stdout",
     "output_type": "stream",
     "text": [
      "Beneficios\n",
      "100026400261.01532\n"
     ]
    }
   ],
   "source": [
    "print(\"Profit\")\n",
    "print(beneficios_muestras.sum())"
   ]
  },
  {
   "cell_type": "markdown",
   "metadata": {},
   "source": [
    "# Dataframe #1"
   ]
  },
  {
   "cell_type": "code",
   "execution_count": 20,
   "metadata": {},
   "outputs": [
    {
     "data": {
      "text/html": [
       "<div>\n",
       "<style scoped>\n",
       "    .dataframe tbody tr th:only-of-type {\n",
       "        vertical-align: middle;\n",
       "    }\n",
       "\n",
       "    .dataframe tbody tr th {\n",
       "        vertical-align: top;\n",
       "    }\n",
       "\n",
       "    .dataframe thead th {\n",
       "        text-align: right;\n",
       "    }\n",
       "</style>\n",
       "<table border=\"1\" class=\"dataframe\">\n",
       "  <thead>\n",
       "    <tr style=\"text-align: right;\">\n",
       "      <th></th>\n",
       "      <th>id</th>\n",
       "      <th>f0</th>\n",
       "      <th>f1</th>\n",
       "      <th>f2</th>\n",
       "      <th>product</th>\n",
       "    </tr>\n",
       "  </thead>\n",
       "  <tbody>\n",
       "    <tr>\n",
       "      <th>0</th>\n",
       "      <td>kBEdx</td>\n",
       "      <td>-15.001348</td>\n",
       "      <td>-8.276000</td>\n",
       "      <td>-0.005876</td>\n",
       "      <td>3.179103</td>\n",
       "    </tr>\n",
       "    <tr>\n",
       "      <th>1</th>\n",
       "      <td>62mP7</td>\n",
       "      <td>14.272088</td>\n",
       "      <td>-3.475083</td>\n",
       "      <td>0.999183</td>\n",
       "      <td>26.953261</td>\n",
       "    </tr>\n",
       "    <tr>\n",
       "      <th>2</th>\n",
       "      <td>vyE1P</td>\n",
       "      <td>6.263187</td>\n",
       "      <td>-5.948386</td>\n",
       "      <td>5.001160</td>\n",
       "      <td>134.766305</td>\n",
       "    </tr>\n",
       "    <tr>\n",
       "      <th>3</th>\n",
       "      <td>KcrkZ</td>\n",
       "      <td>-13.081196</td>\n",
       "      <td>-11.506057</td>\n",
       "      <td>4.999415</td>\n",
       "      <td>137.945408</td>\n",
       "    </tr>\n",
       "    <tr>\n",
       "      <th>4</th>\n",
       "      <td>AHL4O</td>\n",
       "      <td>12.702195</td>\n",
       "      <td>-8.147433</td>\n",
       "      <td>5.004363</td>\n",
       "      <td>134.766305</td>\n",
       "    </tr>\n",
       "  </tbody>\n",
       "</table>\n",
       "</div>"
      ],
      "text/plain": [
       "      id         f0         f1        f2     product\n",
       "0  kBEdx -15.001348  -8.276000 -0.005876    3.179103\n",
       "1  62mP7  14.272088  -3.475083  0.999183   26.953261\n",
       "2  vyE1P   6.263187  -5.948386  5.001160  134.766305\n",
       "3  KcrkZ -13.081196 -11.506057  4.999415  137.945408\n",
       "4  AHL4O  12.702195  -8.147433  5.004363  134.766305"
      ]
     },
     "metadata": {},
     "output_type": "display_data"
    }
   ],
   "source": [
    "display(df_geo_1.head())"
   ]
  },
  {
   "cell_type": "code",
   "execution_count": 21,
   "metadata": {},
   "outputs": [
    {
     "name": "stdout",
     "output_type": "stream",
     "text": [
      "<class 'pandas.core.frame.DataFrame'>\n",
      "RangeIndex: 100000 entries, 0 to 99999\n",
      "Data columns (total 5 columns):\n",
      " #   Column   Non-Null Count   Dtype  \n",
      "---  ------   --------------   -----  \n",
      " 0   id       100000 non-null  object \n",
      " 1   f0       100000 non-null  float64\n",
      " 2   f1       100000 non-null  float64\n",
      " 3   f2       100000 non-null  float64\n",
      " 4   product  100000 non-null  float64\n",
      "dtypes: float64(4), object(1)\n",
      "memory usage: 3.8+ MB\n"
     ]
    }
   ],
   "source": [
    "df_geo_1.info()"
   ]
  },
  {
   "cell_type": "code",
   "execution_count": 22,
   "metadata": {},
   "outputs": [],
   "source": [
    "# Split the data into training and test sets in a ratio of 75:25\n",
    "X = df_geo_1[['f0', 'f1', 'f2']]\n",
    "y = df_geo_1['product']\n",
    "\n",
    "X_train, X_val, y_train, y_val = train_test_split(X, y, test_size=0.25, random_state=12345)"
   ]
  },
  {
   "cell_type": "code",
   "execution_count": 23,
   "metadata": {},
   "outputs": [],
   "source": [
    "# Make predictions for the validation set\n",
    "model = LinearRegression()\n",
    "model.fit(X_train, y_train)\n",
    "predictions = model.predict(X_val)"
   ]
  },
  {
   "cell_type": "code",
   "execution_count": 24,
   "metadata": {},
   "outputs": [
    {
     "name": "stdout",
     "output_type": "stream",
     "text": [
      "Media de la columna 'product': 68.82500000000002\n"
     ]
    }
   ],
   "source": [
    "media_product = df_geo_1['product'].mean()\n",
    "print(\"Media de la columna 'product':\", media_product)"
   ]
  },
  {
   "cell_type": "code",
   "execution_count": 25,
   "metadata": {},
   "outputs": [
    {
     "name": "stdout",
     "output_type": "stream",
     "text": [
      "Linear Regression\n",
      "MSE geo_data_1 = 0.7976263360391157\n",
      "RMSE geo_data_1= 0.893099286775617\n"
     ]
    }
   ],
   "source": [
    "# Shows the model's predicted average reserve volume and RMSE.\n",
    "# Step 6: Calculate the Mean Square Error (MSE) and Root Mean Square Error (RMSE)\n",
    "mse = mean_squared_error(y_val, predictions)\n",
    "rmse = mse ** 0.5\n",
    "\n",
    "print('Linear Regression')\n",
    "print('MSE geo_data_1 =', mse)\n",
    "print('RMSE geo_data_1=', rmse)"
   ]
  },
  {
   "cell_type": "code",
   "execution_count": 26,
   "metadata": {},
   "outputs": [
    {
     "name": "stdout",
     "output_type": "stream",
     "text": [
      "La región geo_data_1 no es rentable.\n"
     ]
    }
   ],
   "source": [
    "inversion_total = 100000000  # $100 millions\n",
    "numero_pozos = 200\n",
    "\n",
    "umbral_rentabilidad = 500000  # $500,000 per pit\n",
    "\n",
    "# Calculate the average volume of reservations in each region\n",
    "volumen_medio_reservas_geo_1 = df_geo_1['product'].mean()\n",
    "\n",
    "# Compare with the profitability threshold\n",
    "if volumen_medio_reservas_geo_1 >= umbral_rentabilidad:\n",
    "    print(\"The region geo_data_1 is profitable.\")\n",
    "else:\n",
    "    print(\"The region geo_data_1 is not profitable.\")"
   ]
  },
  {
   "cell_type": "code",
   "execution_count": 27,
   "metadata": {},
   "outputs": [
    {
     "data": {
      "image/png": "[encoded data removed]",
      "text/plain": [
       "<Figure size 432x288 with 1 Axes>"
      ]
     },
     "metadata": {
      "needs_background": "light"
     },
     "output_type": "display_data"
    }
   ],
   "source": [
    "# Production threshold in units\n",
    "umbral_produccion = 500000 / 111.1\n",
    "\n",
    "# Average amount of reservations in each region\n",
    "media_reservas_geo_1 = df_geo_1['product'].mean()\n",
    "\n",
    "# Create the graph\n",
    "regiones = ['Geo_1']\n",
    "valores = [media_reservas_geo_1]\n",
    "\n",
    "plt.bar(regiones, valores, color='blue', alpha=0.5, label='Average reservations')\n",
    "plt.axhline(y=umbral_produccion, color='red', linestyle='--', label='Production threshold')\n",
    "plt.xlabel('Regions')\n",
    "plt.ylabel('Quantity')\n",
    "plt.title('Comparison of average reserves and production threshold')\n",
    "plt.legend()\n",
    "plt.show()\n"
   ]
  },
  {
   "cell_type": "markdown",
   "metadata": {},
   "source": [
    "# Write a function to calculate the profit for a set of selected oil wells and model the predictions:"
   ]
  },
  {
   "cell_type": "code",
   "execution_count": 28,
   "metadata": {},
   "outputs": [
    {
     "name": "stdout",
     "output_type": "stream",
     "text": [
      "Total de la columna 'product': 6882500.000000002\n"
     ]
    }
   ],
   "source": [
    "total_product = df_geo_1['product'].sum()\n",
    "print(\"Total of the 'product' column:\", total_product)"
   ]
  },
  {
   "cell_type": "code",
   "execution_count": 29,
   "metadata": {},
   "outputs": [],
   "source": [
    "# Step 1: Make predictions for all wells\n",
    "predictions_all = model.predict(X)\n",
    "\n",
    "# Add the predictions to the DataFrame\n",
    "df_geo_1['predicted_product'] = predictions_all\n",
    "\n",
    "# Step 2: Select the 200 wells with the highest prediction values\n",
    "top_200_wells = df_geo_1.nlargest(200, 'predicted_product')"
   ]
  },
  {
   "cell_type": "code",
   "execution_count": 30,
   "metadata": {},
   "outputs": [
    {
     "name": "stdout",
     "output_type": "stream",
     "text": [
      "Los 5 primeros pozos con los valores de predicción más altos:\n",
      "          id         f0         f1        f2     product  predicted_product\n",
      "26531  yLbdW -26.646255  -1.531112  5.001941  137.945408         140.359367\n",
      "80439  kpPCd -23.884180  -3.773158  5.001008  137.945408         139.983257\n",
      "55165  wcKNk -22.107811  -5.342910  5.006254  137.945408         139.901759\n",
      "42738  XLXvP -19.384167 -15.314765  5.010972  137.945408         139.853808\n",
      "38665  vz1OW -19.348001 -14.265995  5.010731  137.945408         139.818970\n"
     ]
    }
   ],
   "source": [
    "# Show results\n",
    "print(\"The top 5 wells with the highest prediction values:\")\n",
    "print(top_200_wells.head())"
   ]
  },
  {
   "cell_type": "code",
   "execution_count": 31,
   "metadata": {},
   "outputs": [
    {
     "name": "stdout",
     "output_type": "stream",
     "text": [
      "Total de produccion de los 200 pozos seleccionados: 27589.081548181137\n"
     ]
    }
   ],
   "source": [
    "# Calculate the total production of the 200 selected wells\n",
    "total_production = top_200_wells['product'].sum()\n",
    "print(\"total production of the 200 selected wells:\", total_production)"
   ]
  },
  {
   "cell_type": "code",
   "execution_count": 32,
   "metadata": {},
   "outputs": [
    {
     "name": "stdout",
     "output_type": "stream",
     "text": [
      "Media de produccion de los 200 pozos seleccionados: 137.9454077409057\n"
     ]
    }
   ],
   "source": [
    "mean_production = top_200_wells['product'].mean()\n",
    "print(\"Average production of the 200 selected wells:\", mean_production)"
   ]
  },
  {
   "cell_type": "markdown",
   "metadata": {},
   "source": [
    "# Calculate potential profit"
   ]
  },
  {
   "cell_type": "code",
   "execution_count": 33,
   "metadata": {},
   "outputs": [
    {
     "name": "stdout",
     "output_type": "stream",
     "text": [
      "3624.622292168791\n"
     ]
    }
   ],
   "source": [
    "valor_de_cada_unidad = 100000000/total_production\n",
    "print(valor_de_cada_unidad)"
   ]
  },
  {
   "cell_type": "markdown",
   "metadata": {},
   "source": [
    "# Calculate risks and profits for each region:"
   ]
  },
  {
   "cell_type": "code",
   "execution_count": 34,
   "metadata": {},
   "outputs": [
    {
     "data": {
      "image/png": "[encoded data removed]",
      "text/plain": [
       "<Figure size 432x288 with 1 Axes>"
      ]
     },
     "metadata": {
      "needs_background": "light"
     },
     "output_type": "display_data"
    }
   ],
   "source": [
    "# Datos\n",
    "#mean_production = 137.9454077409057\n",
    "#total_production = 27589.081548181137\n",
    "#valor_de_cada_unidad = 100000000 / total_production\n",
    "\n",
    "# Generate production samples based on the average\n",
    "produccion_muestras = np.random.normal(mean_production, 10, size=(1000, len(top_200_wells)))\n",
    "\n",
    "# Calculate the total production for each sample\n",
    "produccion_total_muestras = produccion_muestras.sum(axis=1)\n",
    "\n",
    "# Calculate the profits for each sample\n",
    "beneficios_muestras = produccion_total_muestras * valor_de_cada_unidad\n",
    "\n",
    "# Show the distribution of profits\n",
    "\n",
    "plt.hist(beneficios_muestras, bins=30, edgecolor='black')\n",
    "plt.title('Profit Distribution')\n",
    "plt.xlabel('Profit')\n",
    "plt.ylabel('Frequency')\n",
    "plt.grid(True)\n",
    "plt.show()\n"
   ]
  },
  {
   "cell_type": "code",
   "execution_count": 35,
   "metadata": {},
   "outputs": [
    {
     "data": {
      "image/png": "[encoded data removed]",
      "text/plain": [
       "<Figure size 432x288 with 1 Axes>"
      ]
     },
     "metadata": {
      "needs_background": "light"
     },
     "output_type": "display_data"
    }
   ],
   "source": [
    "plt.hist(beneficios_muestras, bins=5, edgecolor='black')\n",
    "plt.title('Profit Sharing (Bootstrapping)')\n",
    "plt.xlabel('Profit')\n",
    "plt.ylabel('Frequency')\n",
    "plt.grid(True)\n",
    "plt.show()"
   ]
  },
  {
   "cell_type": "code",
   "execution_count": 36,
   "metadata": {},
   "outputs": [
    {
     "name": "stdout",
     "output_type": "stream",
     "text": [
      "Beneficios\n",
      "99997754155.51169\n"
     ]
    }
   ],
   "source": [
    "print(\"Benefits\")\n",
    "print(beneficios_muestras.sum())"
   ]
  },
  {
   "cell_type": "code",
   "execution_count": 37,
   "metadata": {},
   "outputs": [
    {
     "name": "stdout",
     "output_type": "stream",
     "text": [
      "Beneficio promedio: 99997754.15551169\n",
      "Intervalo de confianza del 95%: [9.89774874e+07 1.00975071e+08]\n",
      "Riesgo de pérdidas: 0.0 %\n"
     ]
    }
   ],
   "source": [
    "# Calculate average profit\n",
    "beneficio_promedio = np.mean(beneficios_muestras)\n",
    "print(\"Average profit:\", beneficio_promedio)\n",
    "\n",
    "# Calcular intervalo de confianza del 95%\n",
    "intervalo_confianza = np.percentile(beneficios_muestras, [2.5, 97.5])\n",
    "print(\"95% confidence interval:\", intervalo_confianza)\n",
    "\n",
    "# Calcular riesgo de pérdidas como probabilidad y expresarlo como porcentaje\n",
    "probabilidad_perdidas = np.mean(beneficios_muestras < 0)\n",
    "porcentaje_perdidas = probabilidad_perdidas * 100\n",
    "print(\"Risk of losses:\", porcentaje_perdidas, \"%\")"
   ]
  },
  {
   "cell_type": "markdown",
   "metadata": {},
   "source": [
    "# Dataframe #2"
   ]
  },
  {
   "cell_type": "code",
   "execution_count": 38,
   "metadata": {},
   "outputs": [
    {
     "data": {
      "text/html": [
       "<div>\n",
       "<style scoped>\n",
       "    .dataframe tbody tr th:only-of-type {\n",
       "        vertical-align: middle;\n",
       "    }\n",
       "\n",
       "    .dataframe tbody tr th {\n",
       "        vertical-align: top;\n",
       "    }\n",
       "\n",
       "    .dataframe thead th {\n",
       "        text-align: right;\n",
       "    }\n",
       "</style>\n",
       "<table border=\"1\" class=\"dataframe\">\n",
       "  <thead>\n",
       "    <tr style=\"text-align: right;\">\n",
       "      <th></th>\n",
       "      <th>id</th>\n",
       "      <th>f0</th>\n",
       "      <th>f1</th>\n",
       "      <th>f2</th>\n",
       "      <th>product</th>\n",
       "    </tr>\n",
       "  </thead>\n",
       "  <tbody>\n",
       "    <tr>\n",
       "      <th>0</th>\n",
       "      <td>fwXo0</td>\n",
       "      <td>-1.146987</td>\n",
       "      <td>0.963328</td>\n",
       "      <td>-0.828965</td>\n",
       "      <td>27.758673</td>\n",
       "    </tr>\n",
       "    <tr>\n",
       "      <th>1</th>\n",
       "      <td>WJtFt</td>\n",
       "      <td>0.262778</td>\n",
       "      <td>0.269839</td>\n",
       "      <td>-2.530187</td>\n",
       "      <td>56.069697</td>\n",
       "    </tr>\n",
       "    <tr>\n",
       "      <th>2</th>\n",
       "      <td>ovLUW</td>\n",
       "      <td>0.194587</td>\n",
       "      <td>0.289035</td>\n",
       "      <td>-5.586433</td>\n",
       "      <td>62.871910</td>\n",
       "    </tr>\n",
       "    <tr>\n",
       "      <th>3</th>\n",
       "      <td>q6cA6</td>\n",
       "      <td>2.236060</td>\n",
       "      <td>-0.553760</td>\n",
       "      <td>0.930038</td>\n",
       "      <td>114.572842</td>\n",
       "    </tr>\n",
       "    <tr>\n",
       "      <th>4</th>\n",
       "      <td>WPMUX</td>\n",
       "      <td>-0.515993</td>\n",
       "      <td>1.716266</td>\n",
       "      <td>5.899011</td>\n",
       "      <td>149.600746</td>\n",
       "    </tr>\n",
       "  </tbody>\n",
       "</table>\n",
       "</div>"
      ],
      "text/plain": [
       "      id        f0        f1        f2     product\n",
       "0  fwXo0 -1.146987  0.963328 -0.828965   27.758673\n",
       "1  WJtFt  0.262778  0.269839 -2.530187   56.069697\n",
       "2  ovLUW  0.194587  0.289035 -5.586433   62.871910\n",
       "3  q6cA6  2.236060 -0.553760  0.930038  114.572842\n",
       "4  WPMUX -0.515993  1.716266  5.899011  149.600746"
      ]
     },
     "metadata": {},
     "output_type": "display_data"
    }
   ],
   "source": [
    "display(df_geo_2.head())"
   ]
  },
  {
   "cell_type": "code",
   "execution_count": 39,
   "metadata": {},
   "outputs": [
    {
     "name": "stdout",
     "output_type": "stream",
     "text": [
      "<class 'pandas.core.frame.DataFrame'>\n",
      "RangeIndex: 100000 entries, 0 to 99999\n",
      "Data columns (total 5 columns):\n",
      " #   Column   Non-Null Count   Dtype  \n",
      "---  ------   --------------   -----  \n",
      " 0   id       100000 non-null  object \n",
      " 1   f0       100000 non-null  float64\n",
      " 2   f1       100000 non-null  float64\n",
      " 3   f2       100000 non-null  float64\n",
      " 4   product  100000 non-null  float64\n",
      "dtypes: float64(4), object(1)\n",
      "memory usage: 3.8+ MB\n"
     ]
    }
   ],
   "source": [
    "df_geo_2.info()"
   ]
  },
  {
   "cell_type": "code",
   "execution_count": 40,
   "metadata": {},
   "outputs": [],
   "source": [
    "# Split the data into training and test sets in a ratio of 75:25\n",
    "X = df_geo_2[['f0', 'f1', 'f2']]\n",
    "y = df_geo_2['product']\n",
    "\n",
    "X_train, X_val, y_train, y_val = train_test_split(X, y, test_size=0.25, random_state=12345)"
   ]
  },
  {
   "cell_type": "code",
   "execution_count": 41,
   "metadata": {},
   "outputs": [],
   "source": [
    "# Make predictions for the validation set\n",
    "model = LinearRegression()\n",
    "model.fit(X_train, y_train)\n",
    "\n",
    "predictions = model.predict(X_val)"
   ]
  },
  {
   "cell_type": "code",
   "execution_count": 42,
   "metadata": {},
   "outputs": [
    {
     "name": "stdout",
     "output_type": "stream",
     "text": [
      "Media de la columna 'product': 95.00000000000004\n"
     ]
    }
   ],
   "source": [
    "media_product = df_geo_2['product'].mean()\n",
    "print(\"Average of 'product' column:\", media_product)"
   ]
  },
  {
   "cell_type": "code",
   "execution_count": 43,
   "metadata": {},
   "outputs": [
    {
     "name": "stdout",
     "output_type": "stream",
     "text": [
      "Linear Regression\n",
      "MSE geo_data_2 = 1602.3775813236196\n",
      "RMSE geo_data_2= 40.02970873393434\n"
     ]
    }
   ],
   "source": [
    "# Shows the model's predicted average reserve volume and RMSE.\n",
    "# Step 6: Calculate the Mean Square Error (MSE) and Root Mean Square Error (RMSE)\n",
    "mse = mean_squared_error(y_val, predictions)\n",
    "rmse = mse ** 0.5\n",
    "\n",
    "print('Linear Regression')\n",
    "print('MSE geo_data_2 =', mse)\n",
    "print('RMSE geo_data_2=', rmse)"
   ]
  },
  {
   "cell_type": "code",
   "execution_count": 44,
   "metadata": {},
   "outputs": [
    {
     "name": "stdout",
     "output_type": "stream",
     "text": [
      "La región geo_data_2 no es rentable.\n"
     ]
    }
   ],
   "source": [
    "inversion_total = 100_000_000  # $100 millions\n",
    "numero_pozos = 200\n",
    "\n",
    "umbral_rentabilidad = 500_000  # $500,000 per well\n",
    "\n",
    "# We calculate the average volume of reservations in each region\n",
    "volumen_medio_reservas_geo_2 = df_geo_2['product'].mean()\n",
    "\n",
    "# We compare with the profitability threshold\n",
    "if volumen_medio_reservas_geo_2 >= umbral_rentabilidad:\n",
    "    print(\"The region geo_data_2 is profitable.\")\n",
    "else:\n",
    "     print(\"The region geo_data_2 is not profitable.\")"
   ]
  },
  {
   "cell_type": "code",
   "execution_count": 45,
   "metadata": {},
   "outputs": [
    {
     "data": {
      "image/png": "[encoded data removed]",
      "text/plain": [
       "<Figure size 432x288 with 1 Axes>"
      ]
     },
     "metadata": {
      "needs_background": "light"
     },
     "output_type": "display_data"
    }
   ],
   "source": [
    "# Production threshold in units\n",
    "umbral_produccion = 500000 / 111.1\n",
    "\n",
    "# Average amount of reservations in each region\n",
    "media_reservas_geo_2 = df_geo_2['product'].mean()\n",
    "\n",
    "# Create the graph\n",
    "regiones = ['Geo_2']\n",
    "valores = [media_reservas_geo_2]\n",
    "\n",
    "plt.bar(regiones, valores, color='black', alpha=0.5, label='Media de reservas')\n",
    "plt.axhline(y=umbral_produccion, color='red', linestyle='--', label='Production threshold')\n",
    "plt.xlabel('Regions')\n",
    "plt.ylabel('Quantity')\n",
    "plt.title('Comparison of average reserves and production threshold')\n",
    "plt.legend()\n",
    "plt.show()"
   ]
  },
  {
   "cell_type": "markdown",
   "metadata": {},
   "source": [
    "# Write a function to calculate the profit for a set of selected oil wells and model the predictions:"
   ]
  },
  {
   "cell_type": "code",
   "execution_count": 46,
   "metadata": {},
   "outputs": [
    {
     "name": "stdout",
     "output_type": "stream",
     "text": [
      "Total de la columna 'product': 9500000.000000004\n"
     ]
    }
   ],
   "source": [
    "total_product = df_geo_2['product'].sum()\n",
    "print(\"Total de la columna 'product':\", total_product)"
   ]
  },
  {
   "cell_type": "code",
   "execution_count": 47,
   "metadata": {},
   "outputs": [
    {
     "name": "stdout",
     "output_type": "stream",
     "text": [
      "Los 5 primeros pozos con los valores de predicción más altos:\n",
      "          id        f0        f1         f2     product  predicted_product\n",
      "3540   4KBhu -2.548791  3.210600  16.739402  154.062998         176.120799\n",
      "98714  C6aBZ -0.209583  1.174825  16.357645   98.664401         174.099141\n",
      "25463  mMCBz -1.623992 -3.263073  16.313011  166.293929         173.986438\n",
      "6647   AaIO6  1.046668 -1.970502  16.252444  152.294162         173.669179\n",
      "69502  OYrnh -1.145417 -0.650543  16.223146  121.349438         173.378840\n"
     ]
    }
   ],
   "source": [
    "# Step 1: Make predictions for all wells\n",
    "predictions_all = model.predict(X)\n",
    "\n",
    "# Add the predictions to the DataFrame\n",
    "df_geo_2['predicted_product'] = predictions_all\n",
    "\n",
    "# Step 2: Select the 200 wells with the highest prediction values\n",
    "top_200_wells = df_geo_2.nlargest(200, 'predicted_product')\n",
    "\n",
    "# View the results\n",
    "print(\"The top 5 wells with the highest prediction values:\")\n",
    "print(top_200_wells.head())"
   ]
  },
  {
   "cell_type": "code",
   "execution_count": 48,
   "metadata": {},
   "outputs": [
    {
     "name": "stdout",
     "output_type": "stream",
     "text": [
      "Total de produccion de los 200 pozos seleccionados: 27936.468071024286\n"
     ]
    }
   ],
   "source": [
    "# Calculate the total production of the 200 selected wells\n",
    "total_production = top_200_wells['product'].sum()\n",
    "\n",
    "print(\"Total production of the 200 selected wells:\", total_production)"
   ]
  },
  {
   "cell_type": "code",
   "execution_count": 49,
   "metadata": {},
   "outputs": [
    {
     "name": "stdout",
     "output_type": "stream",
     "text": [
      "Media de produccion de los 200 pozos seleccionados: 139.68234035512143\n"
     ]
    }
   ],
   "source": [
    "mean_production = top_200_wells['product'].mean()\n",
    "print(\"Average production of the 200 selected wells: \", mean_production)"
   ]
  },
  {
   "cell_type": "markdown",
   "metadata": {},
   "source": [
    "# Calculate potential profit"
   ]
  },
  {
   "cell_type": "code",
   "execution_count": 50,
   "metadata": {},
   "outputs": [
    {
     "name": "stdout",
     "output_type": "stream",
     "text": [
      "3579.550562575232\n"
     ]
    }
   ],
   "source": [
    "valor_de_cada_unidad = 100000000/total_production\n",
    "print(valor_de_cada_unidad)"
   ]
  },
  {
   "cell_type": "markdown",
   "metadata": {},
   "source": [
    "# Calculate risks and profits for each region:"
   ]
  },
  {
   "cell_type": "code",
   "execution_count": 51,
   "metadata": {},
   "outputs": [
    {
     "data": {
      "image/png": "[encoded data removed]",
      "text/plain": [
       "<Figure size 432x288 with 1 Axes>"
      ]
     },
     "metadata": {
      "needs_background": "light"
     },
     "output_type": "display_data"
    }
   ],
   "source": [
    "# Data\n",
    "#mean_production = 149.93449102346685\n",
    "#total_production = 29986.898204693367\n",
    "#valor_de_cada_unidad = 100000000 / total_production\n",
    "\n",
    "# Generate production samples based on the average\n",
    "produccion_muestras = np.random.normal(mean_production, 10, size=(1000, len(top_200_wells)))\n",
    "\n",
    "# Calculate the total production for each sample\n",
    "produccion_total_muestras = produccion_muestras.sum(axis=1)\n",
    "\n",
    "# Calculate the profits for each sample\n",
    "beneficios_muestras = produccion_total_muestras * valor_de_cada_unidad\n",
    "\n",
    "# Show the distribution of profits\n",
    "\n",
    "plt.hist(beneficios_muestras, bins=30, edgecolor='black')\n",
    "plt.title('Profit Sharing (Bootstrapping)')\n",
    "plt.xlabel('Profit')\n",
    "plt.ylabel('Frequency')\n",
    "plt.grid(True)\n",
    "plt.show()"
   ]
  },
  {
   "cell_type": "code",
   "execution_count": 52,
   "metadata": {},
   "outputs": [
    {
     "data": {
      "image/png": "[encoded data removed]",
      "text/plain": [
       "<Figure size 432x288 with 1 Axes>"
      ]
     },
     "metadata": {
      "needs_background": "light"
     },
     "output_type": "display_data"
    }
   ],
   "source": [
    "plt.hist(beneficios_muestras, bins=5, edgecolor='black')\n",
    "plt.title('Profit Distribution')\n",
    "plt.xlabel('Profit')\n",
    "plt.ylabel('Frequency')\n",
    "plt.grid(True)\n",
    "plt.show()"
   ]
  },
  {
   "cell_type": "code",
   "execution_count": 53,
   "metadata": {},
   "outputs": [
    {
     "name": "stdout",
     "output_type": "stream",
     "text": [
      "Beneficio promedio: 99982415.83275971\n",
      "Intervalo de confianza del 95%: [9.89656833e+07 1.00935008e+08]\n",
      "Riesgo de pérdidas: 0.0 %\n"
     ]
    }
   ],
   "source": [
    "# Calculate average profit\n",
    "beneficio_promedio = np.mean(beneficios_muestras)\n",
    "print(\"Beneficio promedio:\", beneficio_promedio)\n",
    "\n",
    "# Calculate 95% confidence interval\n",
    "intervalo_confianza = np.percentile(beneficios_muestras, [2.5, 97.5])\n",
    "print(\"95% confidence interval:\", intervalo_confianza)\n",
    "\n",
    "# Calculate risk of loss as probability and express it as a percentage\n",
    "probabilidad_perdidas = np.mean(beneficios_muestras < 0)\n",
    "porcentaje_perdidas = probabilidad_perdidas * 100\n",
    "print(\"Risk of losses:\", porcentaje_perdidas, \"%\")"
   ]
  },
  {
   "cell_type": "code",
   "execution_count": null,
   "metadata": {},
   "outputs": [],
   "source": []
  },
  {
   "cell_type": "markdown",
   "metadata": {},
   "source": [
    "# Conclusion"
   ]
  },
  {
   "cell_type": "markdown",
   "metadata": {},
   "source": [
    "Based on what I have seen in the different areas of the datasets, I can see that even despite the little information on the columns f01 to f03, a hypothetical \"profit\" can be created to confirm whether it is viable or not, the selection of the area for one of the oil wells to be able to recover the investment in a safer and more viable way:"
   ]
  },
  {
   "cell_type": "markdown",
   "metadata": {},
   "source": [
    "# Potential profits\n",
    "\n",
    "geo_0:3334.7897244119968\n",
    "\n",
    "geo_1: 3624.622292168791\n",
    "\n",
    "geo_2: 3579.550562575232"
   ]
  },
  {
   "cell_type": "markdown",
   "metadata": {},
   "source": [
    "# Average profit\n",
    "\n",
    "geo_0: 100041086.33657654\n",
    "\n",
    "geo_1: 99997754.15551169\n",
    "\n",
    "geo_2: 99982415.83275971"
   ]
  },
  {
   "cell_type": "markdown",
   "metadata": {},
   "source": [
    "Based on what has been achieved:\n",
    "I think that the most prosperous place to recover the investment would be geographic zone 0.\n",
    "\n",
    "Since wells with stable and predictable production tend to generate income more constantly and reliably, which can help recover the initial investment more quickly and safely."
   ]
  },
  {
   "cell_type": "code",
   "execution_count": null,
   "metadata": {},
   "outputs": [],
   "source": []
  }
 ],
 "metadata": {
  "kernelspec": {
   "display_name": "Python 3 (ipykernel)",
   "language": "python",
   "name": "python3"
  },
  "language_info": {
   "codemirror_mode": {
    "name": "ipython",
    "version": 3
   },
   "file_extension": ".py",
   "mimetype": "text/x-python",
   "name": "python",
   "nbconvert_exporter": "python",
   "pygments_lexer": "ipython3",
   "version": "3.11.5"
  },
  "toc": {
   "base_numbering": 1,
   "nav_menu": {},
   "number_sections": true,
   "sideBar": true,
   "skip_h1_title": true,
   "title_cell": "Table of Contents",
   "title_sidebar": "Contents",
   "toc_cell": false,
   "toc_position": {},
   "toc_section_display": true,
   "toc_window_display": false
  }
 },
 "nbformat": 4,
 "nbformat_minor": 2
}
