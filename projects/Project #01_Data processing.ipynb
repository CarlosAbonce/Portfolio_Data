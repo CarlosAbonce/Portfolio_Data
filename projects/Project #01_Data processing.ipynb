{
 "cells": [
  {
   "cell_type": "markdown",
   "metadata": {},
   "source": [
    "# Data processing and collection for future analysis"
   ]
  },
  {
   "cell_type": "markdown",
   "metadata": {
    "id": "jrvwNQJi0P9l"
   },
   "source": [
    "# Description\n",
    "An e-commerce company, Store 1, recently started collecting data on its customers. Store 1's ultimate goal is to better understand its customers' behavior and make data-driven decisions to improve their online experience."
   ]
  },
  {
   "cell_type": "markdown",
   "metadata": {
    "id": "2utuFkVZ0P9p"
   },
   "source": [
    "Store 1 aims to ensure consistency in data collection. As part of this initiative, the quality of data collected about users must be evaluated. You have been asked to review the data collected and propose changes. Below you will see data about a particular user; reviews the data and identifies any potential problems."
   ]
  },
  {
   "cell_type": "code",
   "execution_count": 1,
   "metadata": {
    "id": "v4ldWAes0P9q"
   },
   "outputs": [],
   "source": [
    "user_id = '32415'\n",
    "user_name = ' mike_reed '\n",
    "user_age = 32.0\n",
    "fav_categories = ['ELECTRONICS', 'SPORT', 'BOOKS']"
   ]
  },
  {
   "cell_type": "markdown",
   "metadata": {
    "id": "qKAtWDqu0P9t"
   },
   "source": [
    "# Exercise 1\n",
    "\n",
    "We will implement the changes we identify. First, we need to fix the problems with the `user_name` variable. As we saw, it has unnecessary spaces and an underscore as a separator between the first name and the last name; Your goal is to remove the spaces and then replace the underscore with the space."
   ]
  },
  {
   "cell_type": "code",
   "execution_count": 2,
   "metadata": {
    "id": "442z87Uq0P9t"
   },
   "outputs": [
    {
     "name": "stdout",
     "output_type": "stream",
     "text": [
      "mike reed\n"
     ]
    }
   ],
   "source": [
    "user_name = ' mike_reed '\n",
    "user_name = user_name.strip()# remove spaces in original string\n",
    "user_name = user_name.replace('_', ' ') # replace underscore with space\n",
    "\n",
    "print(user_name)"
   ]
  },
  {
   "cell_type": "markdown",
   "metadata": {
    "id": "g4YyN4WK0P9t"
   },
   "source": [
    "# Exercise 2\n",
    "\n",
    "Next, we need to split the updated `user_name` into two substrings to get a list containing two values: the string for the first name and the string for the last name."
   ]
  },
  {
   "cell_type": "code",
   "execution_count": 3,
   "metadata": {
    "id": "Q1L1ARfY0P9u"
   },
   "outputs": [
    {
     "name": "stdout",
     "output_type": "stream",
     "text": [
      "['mike', 'reed']\n"
     ]
    }
   ],
   "source": [
    "user_name = 'mike reed'\n",
    "name_split = user_name.split()# split the string user_name here\n",
    "\n",
    "print(name_split)"
   ]
  },
  {
   "cell_type": "markdown",
   "metadata": {
    "id": "-VWZkZtc0P9u"
   },
   "source": [
    "# Exercise 3\n",
    "\n",
    "Brilliant! Now we must work with the `user_age` variable. As we already mentioned, this has the wrong data type. Let's fix this problem by transforming the data type and displaying the final result."
   ]
  },
  {
   "cell_type": "code",
   "execution_count": 4,
   "metadata": {
    "id": "WPpidP470P9u"
   },
   "outputs": [
    {
     "name": "stdout",
     "output_type": "stream",
     "text": [
      "32\n"
     ]
    }
   ],
   "source": [
    "user_age = 32.0\n",
    "user_age = int(user_age)# changes the type of data for the age of a user\n",
    "\n",
    "print(user_age)"
   ]
  },
  {
   "cell_type": "markdown",
   "metadata": {
    "id": "xdfgaKd60P9v"
   },
   "source": [
    "# Exercise 4\n",
    "\n",
    "As we know, data is not always perfect. We must consider scenarios where the value of `user_age` cannot be converted to an integer. To prevent our system from crashing, we must take measures in advance.\n",
    "\n",
    "Write code that attempts to convert the `user_age` variable to an integer and assigns the transformed value to `user_age_int`. If the attempt fails, we display a message asking the user to provide their age as a numerical value with the message: `Please provide your age as a numerical value.`"
   ]
  },
  {
   "cell_type": "code",
   "execution_count": 5,
   "metadata": {
    "id": "duI5zn_O0P9v"
   },
   "outputs": [
    {
     "name": "stdout",
     "output_type": "stream",
     "text": [
      "Please provide your age as a numerical value.\n"
     ]
    }
   ],
   "source": [
    "user_age = 'treinta y dos' # aquí está la variable que almacena la edad como un string.\n",
    "\n",
    "# write code that attempts to transform user_age into an integer and if it fails, prints the specified message\n",
    "try:\n",
    "    user_age_int = int(user_age)\n",
    "except ValueError:\n",
    "    print(\"Please provide your age as a numerical value.\")"
   ]
  },
  {
   "cell_type": "markdown",
   "metadata": {
    "id": "Q04i6KQH0P9v"
   },
   "source": [
    "# Exercise 5\n",
    "\n",
    "Finally, consider that all favorite categories are stored in uppercase. To populate a new list called `fav_categories_low` with the same categories, but in lowercase, iterate over the values in the `fav_categories` list, modify them, and add the new values to the `fav_categories_low` list. As always, show the final result."
   ]
  },
  {
   "cell_type": "code",
   "execution_count": 6,
   "metadata": {
    "id": "AtQg6ie10P9v"
   },
   "outputs": [
    {
     "name": "stdout",
     "output_type": "stream",
     "text": [
      "['electronics', 'sport', 'books']\n"
     ]
    }
   ],
   "source": [
    "fav_categories = ['ELECTRONICS', 'SPORT', 'BOOKS']\n",
    "fav_categories_low = []\n",
    "\n",
    "\n",
    "for cat in fav_categories:\n",
    "    fav_categories_low.append(cat.lower())\n",
    "    \n",
    "print(fav_categories_low)"
   ]
  },
  {
   "cell_type": "markdown",
   "metadata": {
    "id": "w8J0RSee0P9w"
   },
   "source": [
    "# Exercise 6\n",
    "\n",
    "We have obtained additional information about our users' spending habits, including the amount spent in each of their favorite categories. Management is interested in the following metrics:\n",
    "\n",
    "- Total amount spent by the user.\n",
    "- Minimum amount spent.\n",
    "- Maximum amount spent.\n",
    "\n",
    "Let's calculate these values and display them on the screen:"
   ]
  },
  {
   "cell_type": "code",
   "execution_count": 7,
   "metadata": {
    "id": "BbhBAmcZ0P9w"
   },
   "outputs": [
    {
     "name": "stdout",
     "output_type": "stream",
     "text": [
      "1280\n",
      "894\n",
      "173\n"
     ]
    }
   ],
   "source": [
    "fav_categories_low = ['electronics', 'sport', 'books']\n",
    "spendings_per_category = [894, 213, 173]\n",
    "\n",
    "total_amount = sum(spendings_per_category)\n",
    "max_amount = max(spendings_per_category) \n",
    "min_amount = min(spendings_per_category) \n",
    "\n",
    "print(total_amount)\n",
    "print(max_amount)\n",
    "print(min_amount)"
   ]
  },
  {
   "cell_type": "markdown",
   "metadata": {
    "id": "hyPGzOt60P9w"
   },
   "source": [
    "# Exercise 7\n",
    "\n",
    "The company wants to offer discounts to its loyal customers. Customers who make purchases totaling more than $1,500 are considered loyal and will receive a discount.\n",
    "\n",
    "Our goal is to create a `while` loop that checks the total amount spent and stops when it reaches it. To simulate new purchases, the `new_purchase` variable outputs a number between 30 and 80 at each iteration of the loop. This represents the amount of money spent on a new purchase and is what must be added to the total.\n",
    "\n",
    "Once the target amount is reached and the `while` loop ends, the final amount will be displayed."
   ]
  },
  {
   "cell_type": "code",
   "execution_count": 8,
   "metadata": {
    "id": "FmpTfK7C0P9x"
   },
   "outputs": [
    {
     "name": "stdout",
     "output_type": "stream",
     "text": [
      "1508\n"
     ]
    }
   ],
   "source": [
    "from random import randint\n",
    "\n",
    "total_amount_spent = 1280\n",
    "target_amount = 1500\n",
    "\n",
    "while total_amount_spent < target_amount:\n",
    "\tnew_purchase = randint(30, 80) # we generate a random number from 30 to 80\n",
    "\ttotal_amount_spent += new_purchase\n",
    "\n",
    "print(total_amount_spent)"
   ]
  },
  {
   "cell_type": "markdown",
   "metadata": {
    "id": "e9j2dOo60P9x"
   },
   "source": [
    "# Exercise 8\n",
    "\n",
    "Now we have all the information about a client the way we want it to be. The management of a company asked us to propose a way to summarize all the information about a user. Your goal is to create a formatted string that uses information from the `user_id`, `user_name`, and `user_age` variables.\n",
    "\n",
    "This is the final string we want to create: `User 32415 is mike who is 32 years old.`."
   ]
  },
  {
   "cell_type": "code",
   "execution_count": 9,
   "metadata": {
    "id": "2dzhjYbm0P9x"
   },
   "outputs": [
    {
     "name": "stdout",
     "output_type": "stream",
     "text": [
      "User 32415 is mike who is 32 years old.\n"
     ]
    }
   ],
   "source": [
    "user_id = '32415'\n",
    "user_name = ['mike', 'reed']\n",
    "user_age = 32\n",
    "\n",
    "user_info = f\"User {user_id} is {user_name[0]} who is {user_age} years old.\"\n",
    "\n",
    "print(user_info)"
   ]
  },
  {
   "cell_type": "markdown",
   "metadata": {
    "id": "J7IXD3Zv0P9x"
   },
   "source": [
    "# Exercise 9\n",
    "\n",
    "To calculate the company's income, follow these steps.\n",
    "\n",
    "1. Use `for` to iterate over the `users` list.\n",
    "2. Extract the list of expenses for each user and add the values.\n",
    "3. Update the income value with the total of each user.\n",
    "\n",
    "This way you will obtain the total income of the company that you will show on the screen at the end."
   ]
  },
  {
   "cell_type": "code",
   "execution_count": 10,
   "metadata": {
    "id": "d8jeNWXQ0P9y"
   },
   "outputs": [
    {
     "name": "stdout",
     "output_type": "stream",
     "text": [
      "2109\n"
     ]
    }
   ],
   "source": [
    "users = [\n",
    "\t  # this is the start of the first sublist\n",
    "    ['32415', ['mike', 'reed'], 32, ['electronics', 'sport', 'books'],\n",
    "        [894, 213, 173]\n",
    "    ], # this is the end of the first sublist\n",
    "\n",
    "    # this is the start of the second sublist\n",
    "    ['31980', ['kate', 'morgan'], 24, ['clothes', 'shoes'],\n",
    "        [439, 390]\n",
    "    ] # this is the end of the second sublist\n",
    "]\n",
    "\n",
    "revenue = 0\n",
    "\n",
    "for user in users:\n",
    "\tspendings_list = user[4]# extracts the list of expenses for each user and adds the values\n",
    "\ttotal_spendings = sum(spendings_list) # add the expenses of all categories to get the total for a particular user\n",
    "\trevenue += total_spendings # updates revenue\n",
    "\n",
    "print(revenue)"
   ]
  },
  {
   "cell_type": "markdown",
   "metadata": {
    "id": "wR0om7Tk0P9y"
   },
   "source": [
    "# Exercise 10\n",
    "\n",
    "Go through the list of users that we have provided and show the names of the clientele under 30 years of age."
   ]
  },
  {
   "cell_type": "code",
   "execution_count": 11,
   "metadata": {
    "id": "KVdthJm70P9y"
   },
   "outputs": [
    {
     "name": "stdout",
     "output_type": "stream",
     "text": [
      "kate\n",
      "samantha\n",
      "emily\n",
      "jose\n",
      "james\n"
     ]
    }
   ],
   "source": [
    "users = [\n",
    "    ['32415', ['mike', 'reed'], 32, ['electronics', 'sport', 'books'],\n",
    "     [894, 213, 173]],\n",
    "    ['31980', ['kate', 'morgan'], 24, ['clothes', 'books'], [439,\n",
    "     390]],\n",
    "    ['32156', ['john', 'doe'], 37, ['electronics', 'home', 'food'],\n",
    "     [459, 120, 99]],\n",
    "    ['32761', ['samantha', 'smith'], 29, ['clothes', 'electronics',\n",
    "     'beauty'], [299, 679, 85]],\n",
    "    ['32984', ['david', 'white'], 41, ['books', 'home', 'sport'], [234,\n",
    "     329, 243]],\n",
    "    ['33001', ['emily', 'brown'], 26, ['beauty', 'home', 'food'], [213,\n",
    "     659, 79]],\n",
    "    ['33767', ['maria', 'garcia'], 33, ['clothes', 'food', 'beauty'],\n",
    "     [499, 189, 63]],\n",
    "    ['33912', ['jose', 'martinez'], 22, ['sport', 'electronics', 'home'\n",
    "     ], [259, 549, 109]],\n",
    "    ['34009', ['lisa', 'wilson'], 35, ['home', 'books', 'clothes'],\n",
    "     [329, 189, 329]],\n",
    "    ['34278', ['james', 'lee'], 28, ['beauty', 'clothes', 'electronics'\n",
    "     ], [189, 299, 579]],\n",
    "    ]\n",
    "\n",
    "# escribe tu código aquí\n",
    "for age in users:\n",
    "    if age[2] < 30:\n",
    "        print(age[1][0])"
   ]
  },
  {
   "cell_type": "markdown",
   "metadata": {
    "id": "LBHWQenm0P9y"
   },
   "source": [
    "# Exercise 11\n",
    "\n",
    "Let's put tasks 9 and 10 together and print the names of users who are under 30 years old and have a total spend greater than $1,000."
   ]
  },
  {
   "cell_type": "code",
   "execution_count": 12,
   "metadata": {
    "id": "HaQNXS-V0P9z"
   },
   "outputs": [
    {
     "name": "stdout",
     "output_type": "stream",
     "text": [
      "samantha\n",
      "james\n"
     ]
    }
   ],
   "source": [
    "users = [\n",
    "    ['32415', ['mike', 'reed'], 32, ['electronics', 'sport', 'books'],\n",
    "     [894, 213, 173]],\n",
    "    ['31980', ['kate', 'morgan'], 24, ['clothes', 'books'], [439,\n",
    "     390]],\n",
    "    ['32156', ['john', 'doe'], 37, ['electronics', 'home', 'food'],\n",
    "     [459, 120, 99]],\n",
    "    ['32761', ['samantha', 'smith'], 29, ['clothes', 'electronics',\n",
    "     'beauty'], [299, 679, 85]],\n",
    "    ['32984', ['david', 'white'], 41, ['books', 'home', 'sport'], [234,\n",
    "     329, 243]],\n",
    "    ['33001', ['emily', 'brown'], 26, ['beauty', 'home', 'food'], [213,\n",
    "     659, 79]],\n",
    "    ['33767', ['maria', 'garcia'], 33, ['clothes', 'food', 'beauty'],\n",
    "     [499, 189, 63]],\n",
    "    ['33912', ['jose', 'martinez'], 22, ['sport', 'electronics', 'home'\n",
    "     ], [259, 549, 109]],\n",
    "    ['34009', ['lisa', 'wilson'], 35, ['home', 'books', 'clothes'],\n",
    "     [329, 189, 329]],\n",
    "    ['34278', ['james', 'lee'], 28, ['beauty', 'clothes', 'electronics'\n",
    "     ], [189, 299, 579]],\n",
    "    ]\n",
    "\n",
    "\n",
    "for user in users:\n",
    "    if user[2] < 30 and sum(user[4]) > 1000:\n",
    "        print(user[1][0]) \n",
    "    # escribe tu código aquí"
   ]
  },
  {
   "cell_type": "markdown",
   "metadata": {
    "id": "yRozkK0R0P90"
   },
   "source": [
    "# Exercise 12\n",
    "\n",
    "Now we are going to show the name and age of all the users who have purchased clothes. Prints the name and age in the same print statement."
   ]
  },
  {
   "cell_type": "code",
   "execution_count": 13,
   "metadata": {
    "id": "mSIyHq1f0P90"
   },
   "outputs": [
    {
     "name": "stdout",
     "output_type": "stream",
     "text": [
      "kate 24\n",
      "samantha 29\n",
      "maria 33\n",
      "lisa 35\n",
      "james 28\n"
     ]
    }
   ],
   "source": [
    "users = [\n",
    "    ['32415', ['mike', 'reed'], 32, ['electronics', 'sport', 'books'],\n",
    "     [894, 213, 173]],\n",
    "    ['31980', ['kate', 'morgan'], 24, ['clothes', 'books'], [439,\n",
    "     390]],\n",
    "    ['32156', ['john', 'doe'], 37, ['electronics', 'home', 'food'],\n",
    "     [459, 120, 99]],\n",
    "    ['32761', ['samantha', 'smith'], 29, ['clothes', 'electronics',\n",
    "     'beauty'], [299, 679, 85]],\n",
    "    ['32984', ['david', 'white'], 41, ['books', 'home', 'sport'], [234,\n",
    "     329, 243]],\n",
    "    ['33001', ['emily', 'brown'], 26, ['beauty', 'home', 'food'], [213,\n",
    "     659, 79]],\n",
    "    ['33767', ['maria', 'garcia'], 33, ['clothes', 'food', 'beauty'],\n",
    "     [499, 189, 63]],\n",
    "    ['33912', ['jose', 'martinez'], 22, ['sport', 'electronics', 'home'\n",
    "     ], [259, 549, 109]],\n",
    "    ['34009', ['lisa', 'wilson'], 35, ['home', 'books', 'clothes'],\n",
    "     [329, 189, 329]],\n",
    "    ['34278', ['james', 'lee'], 28, ['beauty', 'clothes', 'electronics'\n",
    "     ], [189, 299, 579]],\n",
    "    ]\n",
    "\n",
    "for user in users:\n",
    "    if 'clothes' in user[3]:\n",
    "        print(f\"{user[1][0]} {user[2]}\")"
   ]
  }
 ],
 "metadata": {
  "colab": {
   "provenance": []
  },
  "kernelspec": {
   "display_name": "Python 3 (ipykernel)",
   "language": "python",
   "name": "python3"
  },
  "language_info": {
   "codemirror_mode": {
    "name": "ipython",
    "version": 3
   },
   "file_extension": ".py",
   "mimetype": "text/x-python",
   "name": "python",
   "nbconvert_exporter": "python",
   "pygments_lexer": "ipython3",
   "version": "3.11.5"
  },
  "toc": {
   "base_numbering": 1,
   "nav_menu": {},
   "number_sections": true,
   "sideBar": true,
   "skip_h1_title": true,
   "title_cell": "Table of Contents",
   "title_sidebar": "Contents",
   "toc_cell": false,
   "toc_position": {},
   "toc_section_display": true,
   "toc_window_display": false
  }
 },
 "nbformat": 4,
 "nbformat_minor": 1
}
