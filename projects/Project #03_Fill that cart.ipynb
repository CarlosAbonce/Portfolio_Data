{
 "cells": [
  {
   "cell_type": "markdown",
   "id": "3Xg_RQfnafXz",
   "metadata": {
    "id": "3Xg_RQfnafXz"
   },
   "source": [
    "# ¡Fill that cart!"
   ]
  },
  {
   "cell_type": "markdown",
   "id": "mhIvmmkW414q",
   "metadata": {
    "id": "mhIvmmkW414q"
   },
   "source": [
    "# Description\n",
    "\n",
    "Instacart is a grocery delivery platform where customers can register an order and have it delivered, similar to Uber Eats and Door Dash.\n",
    "\n",
    "The data set provided has modifications from the original.\n",
    "\n",
    "- The set size was reduced to make calculations faster and missing and duplicate values were introduced.\n",
    "- The distributions of the original data were preserved when the changes were made."
   ]
  },
  {
   "cell_type": "markdown",
   "id": "n3Ha_cNSZ8lK",
   "metadata": {
    "id": "n3Ha_cNSZ8lK"
   },
   "source": [
    "# Step 1. Data description"
   ]
  },
  {
   "cell_type": "code",
   "execution_count": 1,
   "id": "fbf1adab",
   "metadata": {
    "id": "fbf1adab"
   },
   "outputs": [],
   "source": [
    "# import libraries\n",
    "import pandas as pd\n",
    "import matplotlib.pyplot as plt"
   ]
  },
  {
   "cell_type": "code",
   "execution_count": 2,
   "id": "ad36396d",
   "metadata": {
    "id": "ad36396d"
   },
   "outputs": [],
   "source": [
    "# read data sets into DataFrames\n",
    "df_instacart_orders = pd.read_csv('datasets/instacart_orders.csv',sep=';')\n",
    "df_products = pd.read_csv('datasets/products.csv',sep=';')\n",
    "df_aisles = pd.read_csv('datasets/aisles.csv',sep=';')\n",
    "df_departments = pd.read_csv('datasets/departments.csv',sep=';')\n",
    "df_order_products = pd.read_csv('datasets/order_products.csv',sep=';')"
   ]
  },
  {
   "cell_type": "code",
   "execution_count": 3,
   "id": "ad6a1efa",
   "metadata": {
    "id": "ad6a1efa"
   },
   "outputs": [
    {
     "name": "stdout",
     "output_type": "stream",
     "text": [
      "<class 'pandas.core.frame.DataFrame'>\n",
      "RangeIndex: 478967 entries, 0 to 478966\n",
      "Data columns (total 6 columns):\n",
      " #   Column                  Non-Null Count   Dtype  \n",
      "---  ------                  --------------   -----  \n",
      " 0   order_id                478967 non-null  int64  \n",
      " 1   user_id                 478967 non-null  int64  \n",
      " 2   order_number            478967 non-null  int64  \n",
      " 3   order_dow               478967 non-null  int64  \n",
      " 4   order_hour_of_day       478967 non-null  int64  \n",
      " 5   days_since_prior_order  450148 non-null  float64\n",
      "dtypes: float64(1), int64(5)\n",
      "memory usage: 21.9 MB\n",
      "None\n"
     ]
    }
   ],
   "source": [
    "# show DataFrame information\n",
    "print(df_instacart_orders.info())"
   ]
  },
  {
   "cell_type": "code",
   "execution_count": 4,
   "id": "5130e05e",
   "metadata": {
    "id": "5130e05e"
   },
   "outputs": [
    {
     "name": "stdout",
     "output_type": "stream",
     "text": [
      "<class 'pandas.core.frame.DataFrame'>\n",
      "RangeIndex: 49694 entries, 0 to 49693\n",
      "Data columns (total 4 columns):\n",
      " #   Column         Non-Null Count  Dtype \n",
      "---  ------         --------------  ----- \n",
      " 0   product_id     49694 non-null  int64 \n",
      " 1   product_name   48436 non-null  object\n",
      " 2   aisle_id       49694 non-null  int64 \n",
      " 3   department_id  49694 non-null  int64 \n",
      "dtypes: int64(3), object(1)\n",
      "memory usage: 1.5+ MB\n",
      "None\n"
     ]
    }
   ],
   "source": [
    "# show DataFrame information\n",
    "print(df_products.info())"
   ]
  },
  {
   "cell_type": "code",
   "execution_count": 5,
   "id": "d8370c05",
   "metadata": {
    "id": "d8370c05"
   },
   "outputs": [
    {
     "name": "stdout",
     "output_type": "stream",
     "text": [
      "<class 'pandas.core.frame.DataFrame'>\n",
      "RangeIndex: 134 entries, 0 to 133\n",
      "Data columns (total 2 columns):\n",
      " #   Column    Non-Null Count  Dtype \n",
      "---  ------    --------------  ----- \n",
      " 0   aisle_id  134 non-null    int64 \n",
      " 1   aisle     134 non-null    object\n",
      "dtypes: int64(1), object(1)\n",
      "memory usage: 2.2+ KB\n",
      "None\n"
     ]
    }
   ],
   "source": [
    "# show DataFrame information\n",
    "print(df_aisles.info())"
   ]
  },
  {
   "cell_type": "code",
   "execution_count": 6,
   "id": "59e2090f",
   "metadata": {
    "id": "59e2090f"
   },
   "outputs": [
    {
     "name": "stdout",
     "output_type": "stream",
     "text": [
      "<class 'pandas.core.frame.DataFrame'>\n",
      "RangeIndex: 21 entries, 0 to 20\n",
      "Data columns (total 2 columns):\n",
      " #   Column         Non-Null Count  Dtype \n",
      "---  ------         --------------  ----- \n",
      " 0   department_id  21 non-null     int64 \n",
      " 1   department     21 non-null     object\n",
      "dtypes: int64(1), object(1)\n",
      "memory usage: 464.0+ bytes\n",
      "None\n"
     ]
    }
   ],
   "source": [
    "# show DataFrame information\n",
    "print(df_departments.info())"
   ]
  },
  {
   "cell_type": "code",
   "execution_count": 7,
   "id": "6fc81694",
   "metadata": {
    "id": "6fc81694"
   },
   "outputs": [
    {
     "name": "stdout",
     "output_type": "stream",
     "text": [
      "<class 'pandas.core.frame.DataFrame'>\n",
      "RangeIndex: 4545007 entries, 0 to 4545006\n",
      "Data columns (total 4 columns):\n",
      " #   Column             Dtype  \n",
      "---  ------             -----  \n",
      " 0   order_id           int64  \n",
      " 1   product_id         int64  \n",
      " 2   add_to_cart_order  float64\n",
      " 3   reordered          int64  \n",
      "dtypes: float64(1), int64(3)\n",
      "memory usage: 138.7 MB\n",
      "None\n"
     ]
    }
   ],
   "source": [
    "# show DataFrame information\n",
    "print(df_order_products.info())"
   ]
  },
  {
   "cell_type": "markdown",
   "id": "8RJHqxVmaVsF",
   "metadata": {
    "id": "8RJHqxVmaVsF"
   },
   "source": [
    "#Step 2. Data preprocessing\n",
    "- Check and correct data types (for example, make sure ID columns are integers).\n",
    "- Identify and complete missing values.\n",
    "- Identifies and eliminates duplicate values."
   ]
  },
  {
   "cell_type": "markdown",
   "id": "07357848-dc64-4156-9cc3-01ff4365226d",
   "metadata": {
    "id": "07357848-dc64-4156-9cc3-01ff4365226d"
   },
   "source": [
    "## Find and remove duplicate values."
   ]
  },
  {
   "cell_type": "markdown",
   "id": "f179f0a9",
   "metadata": {
    "id": "f179f0a9"
   },
   "source": [
    "### `orders` data frame"
   ]
  },
  {
   "cell_type": "code",
   "execution_count": 8,
   "id": "b99297a5-405a-463d-8535-9adc3da4ad74",
   "metadata": {
    "id": "b99297a5-405a-463d-8535-9adc3da4ad74"
   },
   "outputs": [
    {
     "name": "stdout",
     "output_type": "stream",
     "text": [
      "0\n"
     ]
    }
   ],
   "source": [
    "# Check for duplicate orders\n",
    "duplicates_order_products = df_order_products.duplicated().sum()\n",
    "print(duplicates_order_products)"
   ]
  },
  {
   "cell_type": "markdown",
   "id": "PEkwUX_gvt5A",
   "metadata": {
    "id": "PEkwUX_gvt5A"
   },
   "source": [
    "¿Tienes líneas duplicadas? Si sí, ¿qué tienen en común?\n",
    "Si, los valores de las columnas entre ellos"
   ]
  },
  {
   "cell_type": "code",
   "execution_count": 9,
   "id": "0d44de5d",
   "metadata": {
    "id": "0d44de5d"
   },
   "outputs": [
    {
     "name": "stdout",
     "output_type": "stream",
     "text": [
      "121\n"
     ]
    }
   ],
   "source": [
    "# Check all orders that were placed on Wednesday at 2:00 a.m.\n",
    "pedidos_miercoles_2am = df_instacart_orders[(df_instacart_orders['order_dow'] == 3) & (df_instacart_orders['order_hour_of_day'] == 2)]\n",
    "\n",
    "print(pedidos_miercoles_2am.shape[0])"
   ]
  },
  {
   "cell_type": "code",
   "execution_count": 10,
   "id": "480563c7",
   "metadata": {
    "id": "480563c7"
   },
   "outputs": [],
   "source": [
    "# Eliminate duplicate orders\n",
    "#Count duplicates = 15\n",
    "#duplicates_instacart_orders= df_instacart_orders.duplicated().sum()\n",
    "#print(duplicates_instacart_orders)\n",
    "df_instacart_orders = df_instacart_orders.drop_duplicates().reset_index(drop=True)"
   ]
  },
  {
   "cell_type": "code",
   "execution_count": 11,
   "id": "0b2396a2",
   "metadata": {
    "id": "0b2396a2"
   },
   "outputs": [
    {
     "name": "stdout",
     "output_type": "stream",
     "text": [
      "0\n"
     ]
    }
   ],
   "source": [
    "# Check again for duplicate rows\n",
    "duplicates_instacart_orders= df_instacart_orders.duplicated().sum()\n",
    "print(duplicates_instacart_orders)"
   ]
  },
  {
   "cell_type": "code",
   "execution_count": 12,
   "id": "f6113ef1",
   "metadata": {
    "id": "f6113ef1"
   },
   "outputs": [
    {
     "name": "stdout",
     "output_type": "stream",
     "text": [
      "0\n"
     ]
    }
   ],
   "source": [
    "# Recheck only for duplicate order IDs\n",
    "duplicates_order_ids = df_instacart_orders['order_id'].duplicated().sum()\n",
    "print(duplicates_order_ids)"
   ]
  },
  {
   "cell_type": "markdown",
   "id": "45e6bc46",
   "metadata": {
    "id": "45e6bc46"
   },
   "source": [
    "### `products` data frame"
   ]
  },
  {
   "cell_type": "code",
   "execution_count": 13,
   "id": "5f526b5b-8175-46fa-a0fd-441767d50e64",
   "metadata": {
    "id": "5f526b5b-8175-46fa-a0fd-441767d50e64"
   },
   "outputs": [
    {
     "name": "stdout",
     "output_type": "stream",
     "text": [
      "0\n"
     ]
    }
   ],
   "source": [
    "# Check for completely duplicate rows\n",
    "duplicates_df_products= df_products.duplicated().sum()\n",
    "print(duplicates_df_products)"
   ]
  },
  {
   "cell_type": "code",
   "execution_count": 14,
   "id": "88daa4f4",
   "metadata": {
    "id": "88daa4f4"
   },
   "outputs": [
    {
     "name": "stdout",
     "output_type": "stream",
     "text": [
      "0\n"
     ]
    }
   ],
   "source": [
    "# Only checks for duplicate product IDs\n",
    "duplicates_order_ids_df_products = df_products['product_id'].duplicated().sum()\n",
    "print(duplicates_order_ids_df_products)"
   ]
  },
  {
   "cell_type": "code",
   "execution_count": 15,
   "id": "c773f0bf",
   "metadata": {
    "id": "c773f0bf"
   },
   "outputs": [
    {
     "name": "stdout",
     "output_type": "stream",
     "text": [
      "1361\n"
     ]
    }
   ],
   "source": [
    "# Only check for duplicate product names (convert names to uppercase letters for better comparison)\n",
    "duplicates_product_names = df_products['product_name'].str.upper().duplicated().sum()\n",
    "print(duplicates_product_names)"
   ]
  },
  {
   "cell_type": "code",
   "execution_count": 4,
   "id": "01efd02e",
   "metadata": {
    "id": "01efd02e"
   },
   "outputs": [
    {
     "name": "stdout",
     "output_type": "stream",
     "text": [
      "       product_id                                     product_name  aisle_id  \\\n",
      "2058         2059                                  Biotin 1000 Mcg        47   \n",
      "5455         5456                 Green Tea With Ginseng and Honey        96   \n",
      "5558         5559                           Cream Of Mushroom Soup        69   \n",
      "7558         7559                        Cinnamon Rolls with Icing       105   \n",
      "9037         9038                           American Cheese slices        21   \n",
      "...           ...                                              ...       ...   \n",
      "49689       49690                    HIGH PERFORMANCE ENERGY DRINK        64   \n",
      "49690       49691                    ORIGINAL PANCAKE & WAFFLE MIX       130   \n",
      "49691       49692  ORGANIC INSTANT OATMEAL LIGHT MAPLE BROWN SUGAR       130   \n",
      "49692       49693                           SPRING WATER BODY WASH       127   \n",
      "49693       49694                          BURRITO- STEAK & CHEESE        38   \n",
      "\n",
      "       department_id  \n",
      "2058              11  \n",
      "5455              20  \n",
      "5558              15  \n",
      "7558              13  \n",
      "9037              16  \n",
      "...              ...  \n",
      "49689              7  \n",
      "49690             14  \n",
      "49691             14  \n",
      "49692             11  \n",
      "49693              1  \n",
      "\n",
      "[104 rows x 4 columns]\n"
     ]
    }
   ],
   "source": [
    "# Check for duplicate non-missing product names\n",
    "duplicates_missing_product_names = df_products[~(df_products['product_name'].isna()) & (df_products['product_name'].str.lower().duplicated())]\n",
    "print(duplicates_missing_product_names)"
   ]
  },
  {
   "cell_type": "markdown",
   "id": "9da8d293",
   "metadata": {
    "id": "9da8d293"
   },
   "source": [
    "Describe brevemente tus hallazgos y lo que hiciste con ellos.\n",
    "\n",
    "Pude utilizar mis habilidades de filtrado de datos para poder encontar alores duplicados y valores nulos dentro de los dataframes"
   ]
  },
  {
   "cell_type": "markdown",
   "id": "60f30db1",
   "metadata": {
    "id": "60f30db1"
   },
   "source": [
    "### `departments` data frame"
   ]
  },
  {
   "cell_type": "code",
   "execution_count": 19,
   "id": "fb410ad4-0fbf-4b80-bb09-23fdea79afe3",
   "metadata": {
    "id": "fb410ad4-0fbf-4b80-bb09-23fdea79afe3"
   },
   "outputs": [
    {
     "name": "stdout",
     "output_type": "stream",
     "text": [
      "0\n"
     ]
    }
   ],
   "source": [
    "# Check for completely duplicate rows\n",
    "duplicates_df_departments= df_departments.duplicated().sum()\n",
    "print(duplicates_df_departments)"
   ]
  },
  {
   "cell_type": "code",
   "execution_count": 20,
   "id": "332b12bb",
   "metadata": {
    "id": "332b12bb"
   },
   "outputs": [
    {
     "name": "stdout",
     "output_type": "stream",
     "text": [
      "0\n"
     ]
    }
   ],
   "source": [
    "# Only check for duplicate product IDs\n",
    "duplicates_id_departments = df_departments['department_id'].duplicated().sum()\n",
    "print(duplicates_id_departments)"
   ]
  },
  {
   "cell_type": "markdown",
   "id": "889349c1",
   "metadata": {
    "id": "889349c1"
   },
   "source": [
    "### `aisles` data frame"
   ]
  },
  {
   "cell_type": "code",
   "execution_count": 21,
   "id": "9da89fb9-4679-40f5-ad0d-c34df753a3f8",
   "metadata": {
    "id": "9da89fb9-4679-40f5-ad0d-c34df753a3f8"
   },
   "outputs": [
    {
     "name": "stdout",
     "output_type": "stream",
     "text": [
      "0\n",
      "Index(['aisle_id', 'aisle'], dtype='object')\n"
     ]
    }
   ],
   "source": [
    "# Check for completely duplicate rows\n",
    "duplicates_df_aisless= df_aisles.duplicated().sum()\n",
    "print(duplicates_df_aisless)\n",
    "print(df_aisles.columns)"
   ]
  },
  {
   "cell_type": "code",
   "execution_count": 22,
   "id": "da7c2822",
   "metadata": {
    "id": "da7c2822"
   },
   "outputs": [
    {
     "name": "stdout",
     "output_type": "stream",
     "text": [
      "0\n"
     ]
    }
   ],
   "source": [
    "# Only check for duplicate product IDs\n",
    "duplicates_id_aisles = df_aisles['aisle_id'].duplicated().sum()\n",
    "print(duplicates_id_aisles)"
   ]
  },
  {
   "cell_type": "markdown",
   "id": "274cd06a",
   "metadata": {
    "id": "274cd06a"
   },
   "source": [
    "### `order_products` data frame"
   ]
  },
  {
   "cell_type": "code",
   "execution_count": 23,
   "id": "52326689-84a8-4b8f-a881-7c68780f62c9",
   "metadata": {
    "id": "52326689-84a8-4b8f-a881-7c68780f62c9"
   },
   "outputs": [
    {
     "name": "stdout",
     "output_type": "stream",
     "text": [
      "0\n",
      "Index(['order_id', 'product_id', 'add_to_cart_order', 'reordered'], dtype='object')\n"
     ]
    }
   ],
   "source": [
    "# Check for completely duplicate rows\n",
    "duplicates_df_order_products= df_order_products.duplicated().sum()\n",
    "print(duplicates_df_order_products)\n",
    "print(df_order_products.columns)"
   ]
  },
  {
   "cell_type": "code",
   "execution_count": 24,
   "id": "7b861391",
   "metadata": {
    "id": "7b861391"
   },
   "outputs": [
    {
     "name": "stdout",
     "output_type": "stream",
     "text": [
      "4545005\n"
     ]
    }
   ],
   "source": [
    "# Check again for any other misleading duplicates\n",
    "#duplicates_another_order_products = df_order_products['order_id'].duplicated().sum() =0\n",
    "#duplicates_another_order_products = df_order_products['product_id'].duplicated().sum() =0\n",
    "#duplicates_another_order_products = df_order_products['add_to_cart_order'].duplicated().sum() =0\n",
    "duplicates_another_order_products = df_order_products['reordered'].duplicated().sum()\n",
    "print(duplicates_another_order_products)\n"
   ]
  },
  {
   "cell_type": "markdown",
   "id": "1e46de76",
   "metadata": {
    "id": "1e46de76"
   },
   "source": [
    "## Find and remove possible missing values\n",
    "\n",
    "* The `'product_name'` column of the products table.\n",
    "* The `'days_since_prior_order'` column of the orders table.\n",
    "* The `'add_to_cart_order'` column of the order_products table."
   ]
  },
  {
   "cell_type": "markdown",
   "id": "c0aebd78",
   "metadata": {
    "id": "c0aebd78"
   },
   "source": [
    "### `products` data frame"
   ]
  },
  {
   "cell_type": "code",
   "execution_count": 25,
   "id": "fe4a8b0f",
   "metadata": {
    "id": "fe4a8b0f"
   },
   "outputs": [
    {
     "name": "stdout",
     "output_type": "stream",
     "text": [
      "1258\n"
     ]
    }
   ],
   "source": [
    "# Find missing values in column 'product_name'\n",
    "missing_values_product_name = df_products['product_name'].isnull().sum()\n",
    "print(missing_values_product_name)"
   ]
  },
  {
   "cell_type": "markdown",
   "id": "-A6x1AbJhjkp",
   "metadata": {
    "id": "-A6x1AbJhjkp"
   },
   "source": [
    "Describe brevemente cuáles son tus hallazgos."
   ]
  },
  {
   "cell_type": "code",
   "execution_count": 26,
   "id": "e96167bc",
   "metadata": {
    "id": "e96167bc"
   },
   "outputs": [
    {
     "name": "stdout",
     "output_type": "stream",
     "text": [
      "Index(['product_id', 'product_name', 'aisle_id', 'department_id'], dtype='object')\n",
      "       product_id product_name  aisle_id  department_id\n",
      "37             38          NaN       100             21\n",
      "71             72          NaN       100             21\n",
      "109           110          NaN       100             21\n",
      "296           297          NaN       100             21\n",
      "416           417          NaN       100             21\n",
      "...           ...          ...       ...            ...\n",
      "49552       49553          NaN       100             21\n",
      "49574       49575          NaN       100             21\n",
      "49640       49641          NaN       100             21\n",
      "49663       49664          NaN       100             21\n",
      "49668       49669          NaN       100             21\n",
      "\n",
      "[1258 rows x 4 columns]\n"
     ]
    }
   ],
   "source": [
    "# Are all missing product names related to the aisle with ID 100?\n",
    "print(df_products .columns)\n",
    "missing_products_aisle_id_100 = df_products[df_products['product_name'].isnull() & (df_products['aisle_id'] == 100)]\n",
    "print(missing_products_aisle_id_100)"
   ]
  },
  {
   "cell_type": "code",
   "execution_count": 27,
   "id": "8fd0a541",
   "metadata": {
    "id": "8fd0a541"
   },
   "outputs": [
    {
     "name": "stdout",
     "output_type": "stream",
     "text": [
      "       product_id product_name  aisle_id  department_id\n",
      "37             38          NaN       100             21\n",
      "71             72          NaN       100             21\n",
      "109           110          NaN       100             21\n",
      "296           297          NaN       100             21\n",
      "416           417          NaN       100             21\n",
      "...           ...          ...       ...            ...\n",
      "49552       49553          NaN       100             21\n",
      "49574       49575          NaN       100             21\n",
      "49640       49641          NaN       100             21\n",
      "49663       49664          NaN       100             21\n",
      "49668       49669          NaN       100             21\n",
      "\n",
      "[1258 rows x 4 columns]\n"
     ]
    }
   ],
   "source": [
    "# Are all missing product names related to the department with ID 21?\n",
    "mis_val_rows_products = df_products[df_products['product_name'].isnull() & (df_products['department_id'] == 21)]\n",
    "print(mis_val_rows_products)"
   ]
  },
  {
   "cell_type": "markdown",
   "id": "qDpdYn1Fht_I",
   "metadata": {
    "id": "qDpdYn1Fht_I"
   },
   "source": [
    "# The products in both aisle 100 and department 21 are void"
   ]
  },
  {
   "cell_type": "code",
   "execution_count": 28,
   "id": "325c3464",
   "metadata": {
    "id": "325c3464",
    "scrolled": false
   },
   "outputs": [
    {
     "data": {
      "text/html": [
       "<div>\n",
       "<style scoped>\n",
       "    .dataframe tbody tr th:only-of-type {\n",
       "        vertical-align: middle;\n",
       "    }\n",
       "\n",
       "    .dataframe tbody tr th {\n",
       "        vertical-align: top;\n",
       "    }\n",
       "\n",
       "    .dataframe thead th {\n",
       "        text-align: right;\n",
       "    }\n",
       "</style>\n",
       "<table border=\"1\" class=\"dataframe\">\n",
       "  <thead>\n",
       "    <tr style=\"text-align: right;\">\n",
       "      <th></th>\n",
       "      <th>aisle_id</th>\n",
       "      <th>aisle</th>\n",
       "    </tr>\n",
       "  </thead>\n",
       "  <tbody>\n",
       "    <tr>\n",
       "      <th>99</th>\n",
       "      <td>100</td>\n",
       "      <td>missing</td>\n",
       "    </tr>\n",
       "  </tbody>\n",
       "</table>\n",
       "</div>"
      ],
      "text/plain": [
       "    aisle_id    aisle\n",
       "99       100  missing"
      ]
     },
     "metadata": {},
     "output_type": "display_data"
    },
    {
     "data": {
      "text/html": [
       "<div>\n",
       "<style scoped>\n",
       "    .dataframe tbody tr th:only-of-type {\n",
       "        vertical-align: middle;\n",
       "    }\n",
       "\n",
       "    .dataframe tbody tr th {\n",
       "        vertical-align: top;\n",
       "    }\n",
       "\n",
       "    .dataframe thead th {\n",
       "        text-align: right;\n",
       "    }\n",
       "</style>\n",
       "<table border=\"1\" class=\"dataframe\">\n",
       "  <thead>\n",
       "    <tr style=\"text-align: right;\">\n",
       "      <th></th>\n",
       "      <th>department_id</th>\n",
       "      <th>department</th>\n",
       "    </tr>\n",
       "  </thead>\n",
       "  <tbody>\n",
       "    <tr>\n",
       "      <th>20</th>\n",
       "      <td>21</td>\n",
       "      <td>missing</td>\n",
       "    </tr>\n",
       "  </tbody>\n",
       "</table>\n",
       "</div>"
      ],
      "text/plain": [
       "    department_id department\n",
       "20             21    missing"
      ]
     },
     "metadata": {},
     "output_type": "display_data"
    }
   ],
   "source": [
    "# Use the department and aisle tables to review the data for the hallway with ID 100 and the department with ID 21.\n",
    "\n",
    "aisle_data = df_aisles[df_aisles['aisle_id'] == 100]\n",
    "\n",
    "department_data = df_departments[df_departments['department_id'] == 21]\n",
    "\n",
    "display(aisle_data)\n",
    "display(department_data)"
   ]
  },
  {
   "cell_type": "code",
   "execution_count": 29,
   "id": "6b295120",
   "metadata": {
    "id": "6b295120"
   },
   "outputs": [],
   "source": [
    "# Complete missing product names with 'Unknown'\n",
    "\n",
    "#1258\n",
    "df_products['product_name'].fillna('Unknown', inplace=True)"
   ]
  },
  {
   "cell_type": "markdown",
   "id": "7eb45c86",
   "metadata": {
    "id": "7eb45c86"
   },
   "source": [
    "### `orders` data frame"
   ]
  },
  {
   "cell_type": "code",
   "execution_count": 30,
   "id": "93e41d96",
   "metadata": {
    "id": "93e41d96"
   },
   "outputs": [
    {
     "name": "stdout",
     "output_type": "stream",
     "text": [
      "       product_id product_name  aisle_id  department_id\n",
      "37             38      Unknown       100             21\n",
      "71             72      Unknown       100             21\n",
      "109           110      Unknown       100             21\n",
      "296           297      Unknown       100             21\n",
      "416           417      Unknown       100             21\n",
      "...           ...          ...       ...            ...\n",
      "49552       49553      Unknown       100             21\n",
      "49574       49575      Unknown       100             21\n",
      "49640       49641      Unknown       100             21\n",
      "49663       49664      Unknown       100             21\n",
      "49668       49669      Unknown       100             21\n",
      "\n",
      "[1258 rows x 4 columns]\n"
     ]
    }
   ],
   "source": [
    "# Find missing values\n",
    "unknown_values = df_products[df_products['product_name'] == 'Unknown']\n",
    "\n",
    "print(unknown_values)"
   ]
  },
  {
   "cell_type": "code",
   "execution_count": 31,
   "id": "166e5a86",
   "metadata": {
    "id": "166e5a86"
   },
   "outputs": [
    {
     "name": "stdout",
     "output_type": "stream",
     "text": [
      "product_id       False\n",
      "product_name     False\n",
      "aisle_id         False\n",
      "department_id    False\n",
      "dtype: bool\n"
     ]
    }
   ],
   "source": [
    "# Are there any missing values other than the customer's first order?\n",
    "primer_pedido = df_products[['product_id', 'product_name', 'aisle_id', 'department_id']].isnull().any()\n",
    "\n",
    "print(primer_pedido)"
   ]
  },
  {
   "cell_type": "markdown",
   "id": "69dc9ca4",
   "metadata": {
    "id": "69dc9ca4"
   },
   "source": [
    "### `order_products` data frame"
   ]
  },
  {
   "cell_type": "code",
   "execution_count": 32,
   "id": "b8240253",
   "metadata": {
    "id": "b8240253"
   },
   "outputs": [
    {
     "name": "stdout",
     "output_type": "stream",
     "text": [
      "order_id               0\n",
      "product_id             0\n",
      "add_to_cart_order    836\n",
      "reordered              0\n",
      "dtype: int64\n"
     ]
    }
   ],
   "source": [
    "# Find missing values\n",
    "valores_ausentes = df_order_products.isnull().sum()\n",
    "print(valores_ausentes)"
   ]
  },
  {
   "cell_type": "code",
   "execution_count": 33,
   "id": "9a78e5ee",
   "metadata": {
    "id": "9a78e5ee"
   },
   "outputs": [
    {
     "name": "stdout",
     "output_type": "stream",
     "text": [
      "1.0\n",
      "64.0\n"
     ]
    }
   ],
   "source": [
    "# What are the minimum and maximum values in this column?\n",
    "valor_minimo = df_order_products['add_to_cart_order'].min()\n",
    "valor_maximo = df_order_products['add_to_cart_order'].max()\n",
    "\n",
    "print(valor_minimo)\n",
    "print(valor_maximo)"
   ]
  },
  {
   "cell_type": "markdown",
   "id": "-Z2Ja215jW78",
   "metadata": {
    "id": "-Z2Ja215jW78"
   },
   "source": [
    "# Findings.\n",
    "\n",
    "Based on the products dataframe, we can only see that the add_to_cart_order column has missing values and with the help of the max and min methods we can know that the highest and smallest values are 1 and 64\n",
    "\n",
    "maximum value"
   ]
  },
  {
   "cell_type": "code",
   "execution_count": 34,
   "id": "ab9d0c2b",
   "metadata": {
    "id": "ab9d0c2b"
   },
   "outputs": [
    {
     "name": "stdout",
     "output_type": "stream",
     "text": [
      "[2449164 1968313 2926893 1717990 1959075  844733   61355  936852  264710\n",
      " 1564093  129627  293169 2849370 1386261 3308010  903110 2136777 3347453\n",
      " 1888628  165801 2094761 1038146 2997021  813364 2256933  171934 2409109\n",
      " 1730767 1169835  733526  404157 3125735  747668 1800005 1961723  871281\n",
      "  388234 1648217 1477139  102236 1021563 1832957 2721963  678116 1220886\n",
      " 1673227 2999801 1633337 2470674 2625444 1677118 2479011 3383594 1183255\n",
      " 1713430 2652650 1598369 1916118  854647 1302315  888470  180546 2621907\n",
      " 1308785 2729254    9310 2170451 2979697 1625713 1529171]\n"
     ]
    }
   ],
   "source": [
    "# Save all order IDs that have a missing value in 'add_to_cart_order'\n",
    "df_pedidos_ausentes = df_order_products[df_order_products['add_to_cart_order'].isnull()]\n",
    "\n",
    "IDs_pedidos = df_pedidos_ausentes['order_id'].unique()\n",
    "print(IDs_pedidos)"
   ]
  },
  {
   "cell_type": "code",
   "execution_count": 5,
   "id": "54c31695",
   "metadata": {
    "id": "54c31695"
   },
   "outputs": [
    {
     "name": "stdout",
     "output_type": "stream",
     "text": [
      "¿Todos los pedidos con valores ausentes tienen más de 64 productos?: True\n"
     ]
    }
   ],
   "source": [
    "# Do all orders with missing values have more than 64 products?\n",
    "# Groups all orders with missing data by their order ID.\n",
    "# Count the number of 'product_id' in each order and check the minimum count value.\n",
    "\n",
    "pedidos_ausentes = df_order_products[df_order_products['add_to_cart_order'].isnull()]\n",
    "\n",
    "IDs_pedidos_ausentes = pedidos_ausentes['order_id']\n",
    "\n",
    "productos_por_pedido = df_order_products[df_order_products['order_id'].isin(IDs_pedidos_ausentes)].groupby('order_id')['product_id'].count()\n",
    "\n",
    "todos_con_mas_de_64_productos = productos_por_pedido.min() > 64\n",
    "\n",
    "print(\"They all have more than 64 products\", todos_con_mas_de_64_productos)\n"
   ]
  },
  {
   "cell_type": "markdown",
   "id": "p9V6pddtjglj",
   "metadata": {
    "id": "p9V6pddtjglj"
   },
   "source": [
    "# Note\n",
    "\n",
    "I could see if within the orders of the product dataframe in terms of null values they have more than 64"
   ]
  },
  {
   "cell_type": "code",
   "execution_count": 36,
   "id": "7a987d08",
   "metadata": {
    "id": "7a987d08"
   },
   "outputs": [
    {
     "name": "stdout",
     "output_type": "stream",
     "text": [
      "order_id             0\n",
      "product_id           0\n",
      "add_to_cart_order    0\n",
      "reordered            0\n",
      "dtype: int64\n"
     ]
    }
   ],
   "source": [
    "# Replace missing values in column 'add_to_cart? with 999 and converts the column to integer type.\n",
    "df_order_products['add_to_cart_order'].fillna(999, inplace=True)\n",
    "df_order_products['add_to_cart_order'] = df_order_products['add_to_cart_order'].astype(int)\n",
    "valores_ausentes = df_order_products.isnull().sum()\n",
    "print(valores_ausentes)"
   ]
  },
  {
   "cell_type": "markdown",
   "id": "fea4bcc7",
   "metadata": {
    "id": "fea4bcc7"
   },
   "source": [
    "# Summary\n",
    "\n",
    "I was able to filter the missing data from add_to_cart_order and manipulate it to see if all the records in that column are greater than 64 and replace the name and data type for the products"
   ]
  },
  {
   "cell_type": "markdown",
   "id": "RnplPFY1gSrb",
   "metadata": {
    "id": "RnplPFY1gSrb"
   },
   "source": [
    "## Conclusions\n",
    "\n",
    "Write here your intermediate conclusions about Step 2. Data preprocessing\n",
    "It was an excellent review of data manipulation, its structure and syntax."
   ]
  },
  {
   "cell_type": "markdown",
   "id": "UjrOIwTcz3ri",
   "metadata": {
    "id": "UjrOIwTcz3ri"
   },
   "source": [
    "# Step 3. Data analysis\n",
    "\n",
    "Once the data is processed and ready\n"
   ]
  },
  {
   "cell_type": "markdown",
   "id": "turkish-kidney",
   "metadata": {
    "id": "turkish-kidney"
   },
   "source": [
    "# [A]\n",
    "\n",
    "1. Verify that the values in the `'order_hour_of_day'` and `'order_dow'` columns in the orders table are reasonable (i.e., `'order_hour_of_day'` ranges between 0 and 23 and `'order_dow'` ranges between 0 and 6).\n",
    "2. Create a graph that shows the number of people placing orders depending on the time of day.\n",
    "3. Create a graph that shows what day of the week people shop.\n",
    "4. Create a graph showing the time people wait to place their next order, and comment on the minimum and maximum values."
   ]
  },
  {
   "cell_type": "markdown",
   "id": "short-capability",
   "metadata": {
    "id": "short-capability"
   },
   "source": [
    "### [A1] Verify that the values are sensitive"
   ]
  },
  {
   "cell_type": "code",
   "execution_count": 13,
   "id": "growing-fruit",
   "metadata": {
    "id": "growing-fruit"
   },
   "outputs": [
    {
     "data": {
      "image/png": "[encoded data removed]",
      "text/plain": [
       "<Figure size 720x432 with 1 Axes>"
      ]
     },
     "metadata": {
      "needs_background": "light"
     },
     "output_type": "display_data"
    },
    {
     "name": "stdout",
     "output_type": "stream",
     "text": [
      "Horas únicas: [13 12 19 20 11  8 18 15 16  9 22 10  0 14 17  1  7  6  2 21  3 23  5  4]\n",
      "Días únicos: [6 5 0 4 3 1 2]\n"
     ]
    }
   ],
   "source": [
    "df_instacart_orders = pd.read_csv('/datasets/instacart_orders.csv', sep=';')\n",
    "\n",
    "\n",
    "unique_hours = df_instacart_orders['order_hour_of_day'].unique()\n",
    "unique_days = df_instacart_orders['order_dow'].unique()\n",
    "\n",
    "\n",
    "wednesday_data = df_instacart_orders[df_instacart_orders['order_dow'] == 3]\n",
    "saturday_data = df_instacart_orders[df_instacart_orders['order_dow'] == 6]\n",
    "\n",
    "plt.figure(figsize=(10, 6))\n",
    "\n",
    "#HISTOGRAMAS\n",
    "plt.hist(wednesday_data['order_hour_of_day'], bins=24, alpha=0.5, label='Wednesday', color='blue')\n",
    "plt.hist(saturday_data['order_hour_of_day'], bins=24, alpha=0.5, label='Saturday', color='green')\n",
    "\n",
    "plt.xlabel('Time of the day')\n",
    "plt.ylabel('Frequency')\n",
    "plt.title('Distribution of orders per hour - Wednesday vs Saturday')\n",
    "plt.legend()\n",
    "\n",
    "plt.show()\n",
    "\n",
    "print(\"unique hours:\", unique_hours)\n",
    "print(\"unique days:\", unique_days)"
   ]
  },
  {
   "cell_type": "markdown",
   "id": "hmR2GNQ6lCsX",
   "metadata": {
    "id": "hmR2GNQ6lCsX"
   },
   "source": [
    "# Conclusions\n",
    "\n",
    "The values obtained for single hours and days are reasonable and follow the established conventions."
   ]
  },
  {
   "cell_type": "markdown",
   "id": "a6743a70",
   "metadata": {
    "id": "a6743a70"
   },
   "source": [
    "### [A2]For each hour of the day, how many people place orders?"
   ]
  },
  {
   "cell_type": "code",
   "execution_count": 41,
   "id": "a36cca27",
   "metadata": {
    "id": "a36cca27"
   },
   "outputs": [
    {
     "data": {
      "image/png": "[encoded data removed]",
      "text/plain": [
       "<Figure size 720x432 with 1 Axes>"
      ]
     },
     "metadata": {
      "needs_background": "light"
     },
     "output_type": "display_data"
    }
   ],
   "source": [
    "orders_per_hour = df_instacart_orders.groupby('order_hour_of_day')['user_id'].nunique()\n",
    "\n",
    "plt.figure(figsize=(10, 6))\n",
    "plt.bar(orders_per_hour.index, orders_per_hour, color='purple')\n",
    "\n",
    "plt.xlabel('Time of day')\n",
    "plt.ylabel('Number of people placing orders')\n",
    "plt.title('Number of people placing orders by time of day')\n",
    "\n",
    "plt.show()"
   ]
  },
  {
   "cell_type": "markdown",
   "id": "documented-command",
   "metadata": {
    "id": "documented-command"
   },
   "source": [
    "### [A3] What day of the week do people buy groceries?"
   ]
  },
  {
   "cell_type": "code",
   "execution_count": 42,
   "id": "chief-digit",
   "metadata": {
    "id": "chief-digit"
   },
   "outputs": [
    {
     "data": {
      "image/png": "[encoded data removed]",
      "text/plain": [
       "<Figure size 720x432 with 1 Axes>"
      ]
     },
     "metadata": {
      "needs_background": "light"
     },
     "output_type": "display_data"
    }
   ],
   "source": [
    "orders_per_day = df_instacart_orders.groupby('order_dow')['user_id'].nunique()\n",
    "\n",
    "plt.figure(figsize=(10, 6))\n",
    "\n",
    "orders_per_day = df_instacart_orders.groupby('order_dow')['user_id'].nunique()\n",
    "\n",
    "plt.bar(orders_per_day.index, orders_per_day)\n",
    "\n",
    "plt.xlabel('Day of the week 0 to 6 Sunday to Saturday')\n",
    "plt.ylabel('Number of people placing orders')\n",
    "plt.title('Number of people placing orders per day of the week')\n",
    "\n",
    "\n",
    "max_day = orders_per_day.idxmax()\n",
    "\n",
    "plt.bar(max_day, orders_per_day[max_day], color='red', label='Most popular day')\n",
    "\n",
    "\n",
    "plt.legend()\n",
    "plt.show()"
   ]
  },
  {
   "cell_type": "markdown",
   "id": "cutting-concert",
   "metadata": {
    "id": "cutting-concert"
   },
   "source": [
    "### [A4] How long do people wait to place another order? Comment on the minimum and maximum values."
   ]
  },
  {
   "cell_type": "code",
   "execution_count": 43,
   "id": "c231f523",
   "metadata": {
    "id": "c231f523"
   },
   "outputs": [
    {
     "data": {
      "image/png": "[encoded data removed]",
      "text/plain": [
       "<Figure size 576x432 with 1 Axes>"
      ]
     },
     "metadata": {
      "needs_background": "light"
     },
     "output_type": "display_data"
    }
   ],
   "source": [
    "plt.figure(figsize=(8, 6))\n",
    "plt.hist(df_instacart_orders['days_since_prior_order'], bins=30, edgecolor='black')\n",
    "plt.title('Histogram of days_since_prior_order')\n",
    "plt.xlabel('Days since previous order')\n",
    "plt.ylabel('Frequency')\n",
    "plt.show()"
   ]
  },
  {
   "cell_type": "markdown",
   "id": "discrete-vertex",
   "metadata": {
    "id": "discrete-vertex"
   },
   "source": [
    "# Conclusions\n",
    "\n",
    "They wait between 7 to 30 days to place a large order."
   ]
  },
  {
   "cell_type": "markdown",
   "id": "tight-staff",
   "metadata": {
    "id": "tight-staff"
   },
   "source": [
    "# [B]\n",
    "\n",
    "1. Is there a difference between Wednesday and Saturday `'order_hour_of_day'` distributions? Plot bar graphs of `'order_hour_of_day'` for both days in the same figure\n",
    "2. Plot the distribution for the number of orders that customers place (i.e., how many customers made only 1 order, how many made 2, how many made 3, and so on...).\n",
    "3. What are the top 20 most frequently ordered products (show your ID and name)?"
   ]
  },
  {
   "cell_type": "markdown",
   "id": "packed-classic",
   "metadata": {
    "id": "packed-classic"
   },
   "source": [
    "### [B1] Difference between Wednesday and Saturday for 'order_hour_of_day'. Plot bar graphs for the two days and describe any differences you see."
   ]
  },
  {
   "cell_type": "code",
   "execution_count": 44,
   "id": "d89b8403",
   "metadata": {
    "id": "d89b8403"
   },
   "outputs": [
    {
     "data": {
      "image/png": "[encoded data removed]",
      "text/plain": [
       "<Figure size 864x432 with 1 Axes>"
      ]
     },
     "metadata": {
      "needs_background": "light"
     },
     "output_type": "display_data"
    }
   ],
   "source": [
    "# 1\n",
    "wednesday_orders = df_instacart_orders[df_instacart_orders['order_dow'] == 3]  # 3  miércoles\n",
    "saturday_orders = df_instacart_orders[df_instacart_orders['order_dow'] == 6]  # 6  sábado\n",
    "\n",
    "wednesday_distribution = wednesday_orders['order_hour_of_day'].value_counts().sort_index()\n",
    "saturday_distribution = saturday_orders['order_hour_of_day'].value_counts().sort_index()\n",
    "\n",
    "plt.figure(figsize=(12, 6))\n",
    "plt.bar(wednesday_distribution.index - 0.2, wednesday_distribution, width=0.4, label='Miércoles')\n",
    "plt.bar(saturday_distribution.index + 0.2, saturday_distribution, width=0.4, label='Sábado')\n",
    "plt.title('Distribution of order_hour_of_day for Wednesday and Saturday')\n",
    "plt.xlabel('Time of day')\n",
    "plt.ylabel('Number of orders')\n",
    "plt.legend()\n",
    "plt.show()\n"
   ]
  },
  {
   "cell_type": "markdown",
   "id": "charitable-congo",
   "metadata": {
    "id": "charitable-congo"
   },
   "source": [
    "# Conclusions\n",
    "There is a small difference between the orders placed on Wednesday and Saturday, but it is still possible to understand that the days where the number of orders increases is Saturday."
   ]
  },
  {
   "cell_type": "markdown",
   "id": "e3891143",
   "metadata": {
    "id": "e3891143"
   },
   "source": [
    "### [B2] What is the distribution for the number of orders per customer?"
   ]
  },
  {
   "cell_type": "code",
   "execution_count": 45,
   "id": "d8c26c23",
   "metadata": {
    "id": "d8c26c23"
   },
   "outputs": [
    {
     "data": {
      "image/png": "[encoded data removed]",
      "text/plain": [
       "<Figure size 720x432 with 1 Axes>"
      ]
     },
     "metadata": {
      "needs_background": "light"
     },
     "output_type": "display_data"
    }
   ],
   "source": [
    "#2\n",
    "orders_per_user = df_instacart_orders['user_id'].value_counts()\n",
    "\n",
    "plt.figure(figsize=(10, 6))\n",
    "plt.hist(orders_per_user, bins=30, color='skyblue', edgecolor='black')\n",
    "plt.title('Distribution of the Number of Orders per Customer')\n",
    "plt.xlabel('Number of Orders')\n",
    "plt.ylabel('Number of Customers')\n",
    "plt.grid(axis='y', alpha=0.75)\n",
    "\n",
    "plt.show()"
   ]
  },
  {
   "cell_type": "code",
   "execution_count": 46,
   "id": "00e69a66",
   "metadata": {
    "id": "00e69a66"
   },
   "outputs": [
    {
     "name": "stdout",
     "output_type": "stream",
     "text": [
      "Index(['order_id', 'user_id', 'order_number', 'order_dow', 'order_hour_of_day',\n",
      "       'days_since_prior_order'],\n",
      "      dtype='object')\n"
     ]
    }
   ],
   "source": [
    "print(df_instacart_orders.columns)\n",
    "#df_instacart_orders = pd.read_csv('/datasets/instacart_orders.csv',sep=';')"
   ]
  },
  {
   "cell_type": "markdown",
   "id": "d2eff7d5",
   "metadata": {
    "id": "d2eff7d5"
   },
   "source": [
    "# Conclusions\n",
    "Based on what is shown in the graph:\n",
    "A distribution that could reflect this behavior is a decreasing exponential distribution."
   ]
  },
  {
   "cell_type": "markdown",
   "id": "54a0319c",
   "metadata": {
    "id": "54a0319c"
   },
   "source": [
    "### [B3] What are the 20 most popular products?"
   ]
  },
  {
   "cell_type": "code",
   "execution_count": 47,
   "id": "exterior-arizona",
   "metadata": {
    "id": "exterior-arizona",
    "scrolled": true
   },
   "outputs": [
    {
     "name": "stdout",
     "output_type": "stream",
     "text": [
      "    product_id              product_name\n",
      "0        24852                    Banana\n",
      "1        13176    Bag of Organic Bananas\n",
      "2        21137      Organic Strawberries\n",
      "3        21903      Organic Baby Spinach\n",
      "4        47209      Organic Hass Avocado\n",
      "5        47766           Organic Avocado\n",
      "6        47626               Large Lemon\n",
      "7        16797              Strawberries\n",
      "8        26209                     Limes\n",
      "9        27845        Organic Whole Milk\n",
      "10       27966       Organic Raspberries\n",
      "11       22935      Organic Yellow Onion\n",
      "12       24964            Organic Garlic\n",
      "13       45007          Organic Zucchini\n",
      "14       39275       Organic Blueberries\n",
      "15       49683            Cucumber Kirby\n",
      "16       28204        Organic Fuji Apple\n",
      "17        5876             Organic Lemon\n",
      "18        8277  Apple Honeycrisp Organic\n",
      "19       40706    Organic Grape Tomatoes\n"
     ]
    }
   ],
   "source": [
    "'''\n",
    "df_order_products = pd.read_csv('/datasets/order_products.csv', sep=';')\n",
    "df_products = pd.read_csv('/datasets/products.csv', sep=';')\n",
    "df_merged = pd.merge(df_order_products, df_products, on='product_id')\n",
    "\n",
    "\n",
    "product_popularity = df_merged['product_id'].value_counts().reset_index()\n",
    "product_popularity.columns = ['product_id', 'order_count']\n",
    "\n",
    "final_result = pd.merge(product_popularity, df_products, on='product_id')\n",
    "top_20_products = final_result.head(20)[['product_id', 'product_name']]\n",
    "\n",
    "print(top_20_products)\n",
    "'''"
   ]
  },
  {
   "cell_type": "code",
   "execution_count": 48,
   "id": "universal-facial",
   "metadata": {
    "id": "universal-facial"
   },
   "outputs": [
    {
     "data": {
      "image/png": "[encoded data removed]",
      "text/plain": [
       "<Figure size 720x432 with 1 Axes>"
      ]
     },
     "metadata": {
      "needs_background": "light"
     },
     "output_type": "display_data"
    }
   ],
   "source": [
    "df_merged = pd.merge(df_order_products, df_products, on='product_id', how='inner')\n",
    "\n",
    "top_products = df_merged['product_name'].value_counts().head(20)\n",
    "\n",
    "plt.figure(figsize=(10, 6))\n",
    "top_products.plot(kind='bar', color='skyblue')\n",
    "plt.title('Top 20 Most Popular Products')\n",
    "plt.xlabel('Product Name')\n",
    "plt.ylabel('Number of Orders')\n",
    "plt.xticks(rotation=45, ha='right')\n",
    "plt.show()\n"
   ]
  },
  {
   "cell_type": "markdown",
   "id": "7df00f47",
   "metadata": {
    "id": "7df00f47"
   },
   "source": [
    "# Conclusions\n",
    "Based on what is shown in the graph we can see the products that are ordered the most and that the product that is most ordered is the banana."
   ]
  },
  {
   "cell_type": "markdown",
   "id": "gross-theme",
   "metadata": {
    "id": "gross-theme"
   },
   "source": [
    "# [C]\n",
    "\n",
    "1. How many items do people usually buy in one order? What is the distribution like?\n",
    "2. What are the top 20 most frequently reordered items (show their names and product IDs)?\n",
    "3. For each product, what is the repeat order rate (number of repeat orders/total orders?\n",
    "4. For each customer, what proportion of the products she ordered had she already ordered? Calculate the repeat order rate for each user instead of each product.\n",
    "5. What are the top 20 items that people put in their carts first (show the product IDs, their names, and the number of times they were the first item added to the cart)?"
   ]
  },
  {
   "cell_type": "markdown",
   "id": "romantic-deposit",
   "metadata": {
    "id": "romantic-deposit"
   },
   "source": [
    "### [C1] How many items do people typically buy in one order? What is the distribution like?"
   ]
  },
  {
   "cell_type": "code",
   "execution_count": 49,
   "id": "virtual-punch",
   "metadata": {
    "id": "virtual-punch"
   },
   "outputs": [
    {
     "data": {
      "image/png": "[encoded data removed]",
      "text/plain": [
       "<Figure size 720x432 with 1 Axes>"
      ]
     },
     "metadata": {
      "needs_background": "light"
     },
     "output_type": "display_data"
    }
   ],
   "source": [
    "df_merged = pd.merge(df_order_products, df_products, on='product_id', how='inner')\n",
    "\n",
    "\n",
    "plt.figure(figsize=(10, 6))\n",
    "plt.hist(df_merged.groupby('order_id')['product_id'].count(), bins=30, color='skyblue', edgecolor='black')\n",
    "plt.title('Distribution of the quantity of items per order')\n",
    "plt.xlabel('Quantity of items per order')\n",
    "plt.ylabel('Number of orders')\n",
    "plt.grid(True)\n",
    "plt.show()\n"
   ]
  },
  {
   "cell_type": "markdown",
   "id": "designed-mortality",
   "metadata": {
    "id": "designed-mortality"
   },
   "source": [
    "# Conclusions\n",
    "means that, on average, each order placed includes approximately 10 items per order"
   ]
  },
  {
   "cell_type": "markdown",
   "id": "5e6b5537",
   "metadata": {
    "id": "5e6b5537"
   },
   "source": [
    "### [C2] What are the top 20 most frequently reordered items (show their names and product IDs)?"
   ]
  },
  {
   "cell_type": "code",
   "execution_count": 50,
   "id": "9374e55a",
   "metadata": {
    "id": "9374e55a"
   },
   "outputs": [
    {
     "data": {
      "image/png": "[encoded data removed]",
      "text/plain": [
       "<Figure size 864x576 with 1 Axes>"
      ]
     },
     "metadata": {
      "needs_background": "light"
     },
     "output_type": "display_data"
    }
   ],
   "source": [
    "df_order_product_combined = pd.merge(df_order_products, df_products, on='product_id', how='inner')\n",
    "\n",
    "reordered_products_count = df_order_product_combined[df_order_product_combined['reordered'] == 1]['product_name'].value_counts().head(20)\n",
    "\n",
    "top_products_info = df_order_product_combined[df_order_product_combined['product_name'].isin(reordered_products_count.index)][['product_id', 'product_name']].drop_duplicates().set_index('product_name').to_dict()['product_id']\n",
    "\n",
    "plt.figure(figsize=(12, 8))\n",
    "plt.bar(reordered_products_count.index, reordered_products_count.values, color='green') \n",
    "plt.ylabel('Frequency')\n",
    "plt.xlabel('Product Name')\n",
    "plt.title('Top 20 most frequently reordered products with ID')\n",
    "\n",
    "for index, value in enumerate(reordered_products_count.index):\n",
    "    plt.text(index, reordered_products_count.values[index], f\"{top_products_info[value]}\", ha='center')\n",
    "\n",
    "plt.xticks(rotation=90)\n",
    "plt.tight_layout()\n",
    "plt.show()\n"
   ]
  },
  {
   "cell_type": "markdown",
   "id": "80e70c74",
   "metadata": {
    "id": "80e70c74"
   },
   "source": [
    "# Conclusions\n",
    "\n",
    "As with the most popular products, it is seen that most of these are related to being the first to be added to the cart from the beginning."
   ]
  },
  {
   "cell_type": "markdown",
   "id": "9d312b14",
   "metadata": {
    "id": "9d312b14"
   },
   "source": [
    "### [C3] For each product, what is the proportion of times it is ordered and reordered?"
   ]
  },
  {
   "cell_type": "code",
   "execution_count": 51,
   "id": "8ae9f4b1",
   "metadata": {
    "id": "8ae9f4b1"
   },
   "outputs": [
    {
     "data": {
      "image/png": "[encoded data removed]",
      "text/plain": [
       "<Figure size 720x432 with 1 Axes>"
      ]
     },
     "metadata": {
      "needs_background": "light"
     },
     "output_type": "display_data"
    }
   ],
   "source": [
    "merged_df = pd.merge(df_order_products, df_products, on='product_id', how='inner')\n",
    "\n",
    "product_count = merged_df.groupby('product_id')['reordered'].agg(['count', 'sum'])\n",
    "product_count['reorder_ratio'] = product_count['sum'] / product_count['count']\n",
    "\n",
    "result_df = pd.merge(df_products, product_count, left_on='product_id', right_index=True, how='inner')\n",
    "\n",
    "plt.figure(figsize=(10, 6))\n",
    "plt.hist(result_df['reorder_ratio'], bins=50, color='blue', edgecolor='black')\n",
    "plt.title('Proportion of times requested and requested again')\n",
    "plt.xlabel('Proportion')\n",
    "plt.ylabel('Number of Products')\n",
    "\n",
    "plt.show()\n"
   ]
  },
  {
   "cell_type": "markdown",
   "id": "I10dEIAyldcO",
   "metadata": {
    "id": "I10dEIAyldcO"
   },
   "source": [
    "# Conclusions\n",
    "The proportion shown is that there are not too many times in which some orders are made again, mainly banana is the one that is ordered the most by people"
   ]
  },
  {
   "cell_type": "markdown",
   "id": "subject-boxing",
   "metadata": {
    "id": "subject-boxing"
   },
   "source": [
    "### [C4] For each customer, what proportion of your products had they already ordered?"
   ]
  },
  {
   "cell_type": "code",
   "execution_count": 52,
   "id": "medical-couple",
   "metadata": {
    "id": "medical-couple",
    "scrolled": true
   },
   "outputs": [
    {
     "data": {
      "image/png": "[encoded data removed]",
      "text/plain": [
       "<Figure size 432x288 with 1 Axes>"
      ]
     },
     "metadata": {
      "needs_background": "light"
     },
     "output_type": "display_data"
    }
   ],
   "source": [
    "merged_df = pd.merge(df_order_products, df_instacart_orders, on='order_id')\n",
    "merged_df = pd.merge(merged_df, df_products, on='product_id')\n",
    "\n",
    "reorder_prop = merged_df.groupby(['user_id', 'product_id'])['reordered'].max().reset_index()\n",
    "reorder_prop = reorder_prop.groupby('user_id')['reordered'].mean().reset_index()\n",
    "\n",
    "plt.hist(reorder_prop['reordered'], bins=20, edgecolor='black')\n",
    "plt.title('Proportion of products reordered per customer')\n",
    "plt.xlabel('Proportion of reordered products')\n",
    "plt.ylabel('Number of clients')\n",
    "\n",
    "plt.show()"
   ]
  },
  {
   "cell_type": "markdown",
   "id": "BgJSvXDsleXz",
   "metadata": {
    "id": "BgJSvXDsleXz"
   },
   "source": [
    "# Conclusions\n",
    "Very few people reorder an order they have already requested."
   ]
  },
  {
   "cell_type": "markdown",
   "id": "92d35137",
   "metadata": {
    "id": "92d35137"
   },
   "source": [
    "### [C5] What are the top 20 items that people put in their carts first?"
   ]
  },
  {
   "cell_type": "code",
   "execution_count": 53,
   "id": "0ae57274",
   "metadata": {
    "id": "0ae57274",
    "scrolled": true
   },
   "outputs": [
    {
     "data": {
      "image/png": "[encoded data removed]",
      "text/plain": [
       "<Figure size 720x432 with 1 Axes>"
      ]
     },
     "metadata": {
      "needs_background": "light"
     },
     "output_type": "display_data"
    }
   ],
   "source": [
    "merged_df = pd.merge(df_order_products, df_products, on='product_id', how='inner')\n",
    "\n",
    "first_in_cart = merged_df[merged_df['add_to_cart_order'] == 1]\n",
    "\n",
    "top_20_first_in_cart = first_in_cart['product_name'].value_counts().head(20)\n",
    "\n",
    "\n",
    "plt.figure(figsize=(10, 6))\n",
    "top_20_first_in_cart.plot(kind='barh', color='skyblue')\n",
    "plt.title('Top 20 Products Added First to Cart')\n",
    "plt.xlabel('Frequency')\n",
    "plt.ylabel('Product')\n",
    "plt.gca().invert_yaxis()\n",
    "\n",
    "plt.show()"
   ]
  },
  {
   "cell_type": "markdown",
   "id": "28ce9872",
   "metadata": {
    "id": "28ce9872"
   },
   "source": [
    "# Conclusions\n",
    "As with the most popular products, it is seen that most of these are related to being the first to be added to the cart from the beginning."
   ]
  },
  {
   "cell_type": "markdown",
   "id": "uITbFCEoDosC",
   "metadata": {
    "id": "uITbFCEoDosC"
   },
   "source": [
    "# General conclusion of the project:"
   ]
  },
  {
   "cell_type": "markdown",
   "id": "478f58ec",
   "metadata": {
    "id": "Nk-4GS7mDwqY"
   },
   "source": [
    "I could see that the cart purchases, several of them, were almost null.\n",
    "In order to discover that I had to read the dataframes not only in the rows of the dataframes but also in the columns to find the missing data and thus have more precise results.\n",
    "\n",
    "The project was a great practice to test the ability to manipulate data and filter it and in this way compare results and generate hypotheses from them in order to generate a more visual response with the graphs."
   ]
  }
 ],
 "metadata": {
  "colab": {
   "provenance": []
  },
  "kernelspec": {
   "display_name": "Python 3 (ipykernel)",
   "language": "python",
   "name": "python3"
  },
  "language_info": {
   "codemirror_mode": {
    "name": "ipython",
    "version": 3
   },
   "file_extension": ".py",
   "mimetype": "text/x-python",
   "name": "python",
   "nbconvert_exporter": "python",
   "pygments_lexer": "ipython3",
   "version": "3.11.5"
  },
  "toc": {
   "base_numbering": 1,
   "nav_menu": {},
   "number_sections": true,
   "sideBar": true,
   "skip_h1_title": true,
   "title_cell": "Table of Contents",
   "title_sidebar": "Contents",
   "toc_cell": false,
   "toc_position": {},
   "toc_section_display": true,
   "toc_window_display": false
  },
  "vscode": {
   "interpreter": {
    "hash": "01a7be9ec63e704a62cefc5fe7a4756944464ee731be31632bdf42a4cb4688cf"
   }
  }
 },
 "nbformat": 4,
 "nbformat_minor": 5
}
